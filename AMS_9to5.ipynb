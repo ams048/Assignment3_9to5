{
    "metadata": {
        "kernelspec": {
            "name": "SQL",
            "display_name": "SQL",
            "language": "sql"
        },
        "language_info": {
            "name": "sql",
            "version": ""
        },
        "extensions": {
            "azuredatastudio": {
                "version": 1,
                "views": []
            }
        }
    },
    "nbformat_minor": 2,
    "nbformat": 4,
    "cells": [
        {
            "cell_type": "markdown",
            "source": [
                "# <span style=\"font-size: 20pt; font-family: Montserrat, sans-serif; color: rgb(92, 148, 206); background-color: rgb(255, 255, 255); font-weight: 700; font-variant-east-asian: normal; vertical-align: baseline; white-space: pre-wrap;\">Graded Assignment 3: 9 to 5</span>\n",
                "\n",
                "<span style=\"font-size: 10pt; font-family: &quot;Times New Roman&quot;; color: rgb(102, 102, 102); background-color: rgb(255, 255, 255); font-variant-east-asian: normal; vertical-align: baseline; white-space: pre-wrap;\">Time to show off your SQL skills! For each question, copy the SQL query you used and make note of the answer.</span>\n",
                "\n",
                "## <span style=\"font-size: 12pt; font-family: Montserrat, sans-serif; color: rgb(53, 74, 95); background-color: rgb(255, 255, 255); font-weight: 700; font-variant-east-asian: normal; vertical-align: baseline; white-space: pre-wrap;\">The Dataset</span>\n",
                "\n",
                "<span style=\"font-size: 10pt; font-family: &quot;Times New Roman&quot;; color: rgb(102, 102, 102); background-color: rgb(255, 255, 255); font-variant-east-asian: normal; vertical-align: baseline; white-space: pre-wrap;\">For this assignment, you will be using the Bureau of Labor Statistics (BLS) Current Employment Survey (CES) results which can be found on</span> [<span style=\"font-size: 10pt; font-family: &quot;Times New Roman&quot;; color: rgb(17, 85, 204); background-color: rgb(255, 255, 255); font-variant-east-asian: normal; text-decoration-line: underline; vertical-align: baseline; white-space: pre-wrap;\">Kaggle</span>](https://www.kaggle.com/bls/employment)<span style=\"font-size: 10pt; font-family: &quot;Times New Roman&quot;; color: rgb(102, 102, 102); background-color: rgb(255, 255, 255); font-variant-east-asian: normal; vertical-align: baseline; white-space: pre-wrap;\">.</span>\n",
                "\n",
                "## <span style=\"font-size: 12pt; font-family: Montserrat, sans-serif; color: rgb(53, 74, 95); background-color: rgb(255, 255, 255); font-weight: 700; font-variant-east-asian: normal; vertical-align: baseline; white-space: pre-wrap;\">Business Issue</span>\n",
                "\n",
                "<span style=\"font-size: 10pt; font-family: &quot;Times New Roman&quot;; color: rgb(102, 102, 102); background-color: rgb(255, 255, 255); font-variant-east-asian: normal; vertical-align: baseline; white-space: pre-wrap;\">You are working for the Bureau of Labor Statistics with the United States government and have been approached by your boss with an important meeting request. You have been asked by your supervisor to meet with Dolly Parton whose nonprofit is looking to shed light on the state of employment in the United States. As part of the 9 to 5 project, their research is focused on production and nonsupervisory employees and how those employees fare compared to all employees in the United States. While the data the BLS collects from the CES is publicly available, Dolly Parton and her colleagues need your assistance navigating the thousands of rows in each table in LaborStatisticsDB.</span>\n",
                "\n",
                "## <span style=\"font-size: 12pt; font-family: Montserrat, sans-serif; color: rgb(53, 74, 95); background-color: rgb(255, 255, 255); font-weight: 700; font-variant-east-asian: normal; vertical-align: baseline; white-space: pre-wrap;\">About the Dataset</span>\n",
                "\n",
                "<span style=\"font-size: 10pt; font-family: &quot;Times New Roman&quot;; color: rgb(102, 102, 102); background-color: rgb(255, 255, 255); font-variant-east-asian: normal; vertical-align: baseline; white-space: pre-wrap;\">This dataset comes directly from the Bureau of Labor Statistics’ Current Employment Survey (CES). Here are some things you need to know:</span>\n",
                "\n",
                "1. <span style=\"font-size: 10pt; background-color: rgb(255, 255, 255); font-variant-east-asian: normal; vertical-align: baseline; white-space: pre-wrap;\">The industry table contains an NAICS code. This is different from the industry code. NAICS stands for North American Industry Classification System.</span>\n",
                "    \n",
                "2. <span style=\"font-size: 10pt; background-color: rgb(255, 255, 255); font-variant-east-asian: normal; vertical-align: baseline; white-space: pre-wrap;\">Series ID is composed of multiple different codes. CES stands for Current Employment Survey, the name of the survey which collected the data. The industry code as specified by the BLS and the data type code as specified in the datatype table.</span>\n",
                "    \n",
                "\n",
                "## <span style=\"font-size: 12pt; font-family: Montserrat, sans-serif; color: rgb(53, 74, 95); background-color: rgb(255, 255, 255); font-weight: 700; font-variant-east-asian: normal; vertical-align: baseline; white-space: pre-wrap;\">Set Up</span>\n",
                "\n",
                "<span style=\"font-size: 10pt; font-family: &quot;Times New Roman&quot;; color: rgb(102, 102, 102); background-color: rgb(255, 255, 255); font-variant-east-asian: normal; vertical-align: baseline; white-space: pre-wrap;\">To connect to the database, use the same connection info used during the SQL lessons.&nbsp;</span> \n",
                "\n",
                "<span style=\"font-size: 10pt; font-family: &quot;Times New Roman&quot;; color: rgb(102, 102, 102); background-color: rgb(255, 255, 255); font-variant-east-asian: normal; vertical-align: baseline; white-space: pre-wrap;\">For the assignment, we will be using the LaborStatisticsDB database.</span>\n",
                "\n",
                "## <span style=\"font-size: 12pt; font-family: Montserrat, sans-serif; color: rgb(53, 74, 95); background-color: rgb(255, 255, 255); font-weight: 700; font-variant-east-asian: normal; vertical-align: baseline; white-space: pre-wrap;\">Database Exploration</span>\n",
                "\n",
                "<span style=\"font-size: 10pt; font-family: &quot;Times New Roman&quot;; color: rgb(102, 102, 102); background-color: rgb(255, 255, 255); font-variant-east-asian: normal; vertical-align: baseline; white-space: pre-wrap;\">To start with, let’s get to know the database further.</span>\n",
                "\n",
                "1. <span style=\"background-color: rgb(255, 255, 255); color: rgb(102, 102, 102); font-family: &quot;Times New Roman&quot;; font-size: 10pt; white-space: pre-wrap;\">Use this space to make note of each table in the database, the columns within each table, each column’s data type, and how the tables are connected. You can write this down or draw a diagram. Whatever method helps you get an understanding of what is going on with LaborStatisticsDB</span>\n",
                "\n",
                "Table Name: annual\\_2016 Columns:\n",
                "\n",
                "- id: smallint\n",
                "- series\\_id: nvarchar(50)\n",
                "- year: smallint\n",
                "- period: nvarchar(50)\n",
                "- value: float\n",
                "- footnote\\_codes: nvarchar(1)\n",
                "- original\\_file: nvarchar(100)\n",
                "\n",
                "Table Name: footnote Columns:\n",
                "\n",
                "- footnot\\_code: nvarchar(50)\n",
                "- footnote\\_text: nvarchar(100)\n",
                "\n",
                "Table Name: supersector Columns:\n",
                "\n",
                "- supersector\\_code: tinyint\n",
                "- supersector\\_name: nvarchar(50)\n",
                "\n",
                "Table Name: series Columns:\n",
                "\n",
                "- series\\_id: nvarchar(50)\n",
                "- supersector\\_code: bigint\n",
                "- industry\\_code: nvarchar(50)\n",
                "- series\\_title: nvarchar(100)\n",
                "\n",
                "Table Name: seasonal Columns:\n",
                "\n",
                "- series\\_id: nvarchar(50)\n",
                "- industry\\_code: nvarchar(50)\n",
                "- seasonal\\_text: nvarchar(50)\n",
                "- data\\_type\\_code: bigint\n",
                "- seasonal: nvarchar(50)\n",
                "\n",
                "Table Name: datatype Columns:\n",
                "\n",
                "- data\\_type\\_code: tinyint\n",
                "- data\\_type\\_text: nvarchar(100)\n",
                "\n",
                "Table Name: period Columns:\n",
                "\n",
                "- period\\_code: nvarchar(50)\n",
                "- period\\_abbr: nvarchar(50)\n",
                "\n",
                "Table Name: industry Columns:\n",
                "\n",
                "- id: smallint\n",
                "- industry\\_code: bigint\n",
                "- naics\\_code: nvarchar(50)\n",
                "- publishing\\_status: nvarchar(50)\n",
                "- industry\\_name: nvarchar(100)\n",
                "- display\\_level: float\n",
                "- selectable: nvarchar(50)\n",
                "- sort\\_sequence: float\n",
                "\n",
                "Connections between tables:\n",
                "\n",
                "- The \"annual\\_2016\" table is connected to the \"footnote\" table through the \"footnote\\_codes\" column.\n",
                "- The \"annual\\_2016\" table is connected to the \"supersector\" table through the \"supersector\\_code\" column.\n",
                "- The \"annual\\_2016\" table is connected to the \"series\" table through the \"series\\_id\" column.\n",
                "- The \"series\" table is connected to the \"seasonal\" table through the \"series\\_id\" column.\n",
                "- The \"series\" table is connected to the \"supersector\" table through the \"supersector\\_code\" column.\n",
                "- The \"series\" table is connected to the \"industry\" table through the \"industry\\_code\" column.\n",
                "- The \"seasonal\" table is connected to the \"datatype\" table through the \"data\\_type\\_code\" column.\n",
                "- The \"period\" table is not directly connected to any other table based on the provided information.\n",
                "- The \"industry\" table is not directly connected to any other table based on the provided information."
            ],
            "metadata": {
                "azdata_cell_guid": "28ea70c5-f0be-4197-b6c0-ade22886a708"
            },
            "attachments": {}
        },
        {
            "cell_type": "markdown",
            "source": [
                "To add a photo, diagram or document to your file, drop the file into the folder that holds this notebook.  Use the the link button to the right of the  \\</\\> symbol in the gray part of this cell, the link is just the name of your file."
            ],
            "metadata": {
                "azdata_cell_guid": "aeae906c-752c-49d3-b482-3ed6a4f54b6e"
            },
            "attachments": {}
        },
        {
            "cell_type": "code",
            "source": [
                "</https://github.com/ams048/Assignment3_9to5/blob/main/Blank%20diagram.png>"
            ],
            "metadata": {
                "azdata_cell_guid": "dbf3633e-8503-49e6-b128-cf010d1558cf",
                "language": "sql"
            },
            "outputs": [
                {
                    "output_type": "error",
                    "ename": "",
                    "evalue": "Msg 102, Level 15, State 1, Line 1\nIncorrect syntax near '<'.",
                    "traceback": []
                },
                {
                    "output_type": "display_data",
                    "data": {
                        "text/html": "Total execution time: 00:00:00.034"
                    },
                    "metadata": {}
                }
            ],
            "execution_count": 6
        },
        {
            "cell_type": "code",
            "source": [
                "USE LaborStatisticsDB\n",
                "SELECT TOP 10 * FROM annual_2016;\n",
                "SELECT * FROM datatype;"
            ],
            "metadata": {
                "language": "sql",
                "azdata_cell_guid": "748d84bd-404d-4d20-b392-96ac6af915db"
            },
            "outputs": [
                {
                    "output_type": "display_data",
                    "data": {
                        "text/html": "(10 rows affected)"
                    },
                    "metadata": {}
                },
                {
                    "output_type": "display_data",
                    "data": {
                        "text/html": "(45 rows affected)"
                    },
                    "metadata": {}
                },
                {
                    "output_type": "display_data",
                    "data": {
                        "text/html": "Total execution time: 00:00:00.064"
                    },
                    "metadata": {}
                },
                {
                    "output_type": "execute_result",
                    "execution_count": 7,
                    "data": {
                        "application/vnd.dataresource+json": {
                            "schema": {
                                "fields": [
                                    {
                                        "name": "id"
                                    },
                                    {
                                        "name": "series_id"
                                    },
                                    {
                                        "name": "year"
                                    },
                                    {
                                        "name": "period"
                                    },
                                    {
                                        "name": "value"
                                    },
                                    {
                                        "name": "footnote_codes"
                                    },
                                    {
                                        "name": "original_file"
                                    }
                                ]
                            },
                            "data": [
                                {
                                    "id": "0",
                                    "series_id": "CEU5500000007",
                                    "year": "2016",
                                    "period": "M13",
                                    "value": "36.9",
                                    "footnote_codes": "NULL",
                                    "original_file": "ce.data.55c.FinancialActivities.ProductionEmployeeHoursAndEarnings.csv"
                                },
                                {
                                    "id": "1",
                                    "series_id": "CEU5500000008",
                                    "year": "2016",
                                    "period": "M13",
                                    "value": "26.11",
                                    "footnote_codes": "NULL",
                                    "original_file": "ce.data.55c.FinancialActivities.ProductionEmployeeHoursAndEarnings.csv"
                                },
                                {
                                    "id": "2",
                                    "series_id": "CEU5500000030",
                                    "year": "2016",
                                    "period": "M13",
                                    "value": "962.73",
                                    "footnote_codes": "NULL",
                                    "original_file": "ce.data.55c.FinancialActivities.ProductionEmployeeHoursAndEarnings.csv"
                                },
                                {
                                    "id": "3",
                                    "series_id": "CEU5500000031",
                                    "year": "2016",
                                    "period": "M13",
                                    "value": "411.29",
                                    "footnote_codes": "NULL",
                                    "original_file": "ce.data.55c.FinancialActivities.ProductionEmployeeHoursAndEarnings.csv"
                                },
                                {
                                    "id": "4",
                                    "series_id": "CEU5500000032",
                                    "year": "2016",
                                    "period": "M13",
                                    "value": "11.15",
                                    "footnote_codes": "NULL",
                                    "original_file": "ce.data.55c.FinancialActivities.ProductionEmployeeHoursAndEarnings.csv"
                                },
                                {
                                    "id": "5",
                                    "series_id": "CEU5500000034",
                                    "year": "2016",
                                    "period": "M13",
                                    "value": "111.6",
                                    "footnote_codes": "NULL",
                                    "original_file": "ce.data.55c.FinancialActivities.ProductionEmployeeHoursAndEarnings.csv"
                                },
                                {
                                    "id": "6",
                                    "series_id": "CEU5500000035",
                                    "year": "2016",
                                    "period": "M13",
                                    "value": "179.2",
                                    "footnote_codes": "NULL",
                                    "original_file": "ce.data.55c.FinancialActivities.ProductionEmployeeHoursAndEarnings.csv"
                                },
                                {
                                    "id": "7",
                                    "series_id": "CEU5500000081",
                                    "year": "2016",
                                    "period": "M13",
                                    "value": "236997",
                                    "footnote_codes": "NULL",
                                    "original_file": "ce.data.55c.FinancialActivities.ProductionEmployeeHoursAndEarnings.csv"
                                },
                                {
                                    "id": "8",
                                    "series_id": "CEU5500000082",
                                    "year": "2016",
                                    "period": "M13",
                                    "value": "6189003",
                                    "footnote_codes": "NULL",
                                    "original_file": "ce.data.55c.FinancialActivities.ProductionEmployeeHoursAndEarnings.csv"
                                },
                                {
                                    "id": "9",
                                    "series_id": "CEU5552200007",
                                    "year": "2016",
                                    "period": "M13",
                                    "value": "37.3",
                                    "footnote_codes": "NULL",
                                    "original_file": "ce.data.55c.FinancialActivities.ProductionEmployeeHoursAndEarnings.csv"
                                }
                            ]
                        },
                        "text/html": "<table><tr><th>id</th><th>series_id</th><th>year</th><th>period</th><th>value</th><th>footnote_codes</th><th>original_file</th></tr><tr><td>0</td><td>CEU5500000007</td><td>2016</td><td>M13</td><td>36.9</td><td>NULL</td><td>ce.data.55c.FinancialActivities.ProductionEmployeeHoursAndEarnings.csv</td></tr><tr><td>1</td><td>CEU5500000008</td><td>2016</td><td>M13</td><td>26.11</td><td>NULL</td><td>ce.data.55c.FinancialActivities.ProductionEmployeeHoursAndEarnings.csv</td></tr><tr><td>2</td><td>CEU5500000030</td><td>2016</td><td>M13</td><td>962.73</td><td>NULL</td><td>ce.data.55c.FinancialActivities.ProductionEmployeeHoursAndEarnings.csv</td></tr><tr><td>3</td><td>CEU5500000031</td><td>2016</td><td>M13</td><td>411.29</td><td>NULL</td><td>ce.data.55c.FinancialActivities.ProductionEmployeeHoursAndEarnings.csv</td></tr><tr><td>4</td><td>CEU5500000032</td><td>2016</td><td>M13</td><td>11.15</td><td>NULL</td><td>ce.data.55c.FinancialActivities.ProductionEmployeeHoursAndEarnings.csv</td></tr><tr><td>5</td><td>CEU5500000034</td><td>2016</td><td>M13</td><td>111.6</td><td>NULL</td><td>ce.data.55c.FinancialActivities.ProductionEmployeeHoursAndEarnings.csv</td></tr><tr><td>6</td><td>CEU5500000035</td><td>2016</td><td>M13</td><td>179.2</td><td>NULL</td><td>ce.data.55c.FinancialActivities.ProductionEmployeeHoursAndEarnings.csv</td></tr><tr><td>7</td><td>CEU5500000081</td><td>2016</td><td>M13</td><td>236997</td><td>NULL</td><td>ce.data.55c.FinancialActivities.ProductionEmployeeHoursAndEarnings.csv</td></tr><tr><td>8</td><td>CEU5500000082</td><td>2016</td><td>M13</td><td>6189003</td><td>NULL</td><td>ce.data.55c.FinancialActivities.ProductionEmployeeHoursAndEarnings.csv</td></tr><tr><td>9</td><td>CEU5552200007</td><td>2016</td><td>M13</td><td>37.3</td><td>NULL</td><td>ce.data.55c.FinancialActivities.ProductionEmployeeHoursAndEarnings.csv</td></tr></table>"
                    },
                    "metadata": {}
                },
                {
                    "output_type": "execute_result",
                    "execution_count": 7,
                    "data": {
                        "application/vnd.dataresource+json": {
                            "schema": {
                                "fields": [
                                    {
                                        "name": "data_type_code"
                                    },
                                    {
                                        "name": "data_type_text"
                                    }
                                ]
                            },
                            "data": [
                                {
                                    "data_type_code": "1",
                                    "data_type_text": "ALL EMPLOYEES"
                                },
                                {
                                    "data_type_code": "2",
                                    "data_type_text": "AVERAGE WEEKLY HOURS OF ALL EMPLOYEES"
                                },
                                {
                                    "data_type_code": "3",
                                    "data_type_text": "AVERAGE HOURLY EARNINGS OF ALL EMPLOYEES"
                                },
                                {
                                    "data_type_code": "4",
                                    "data_type_text": "AVERAGE WEEKLY OVERTIME HOURS OF ALL EMPLOYEES"
                                },
                                {
                                    "data_type_code": "6",
                                    "data_type_text": "PRODUCTION AND NONSUPERVISORY EMPLOYEES"
                                },
                                {
                                    "data_type_code": "7",
                                    "data_type_text": "AVERAGE WEEKLY HOURS OF PRODUCTION AND NONSUPERVISORY EMPLOYEES"
                                },
                                {
                                    "data_type_code": "8",
                                    "data_type_text": "AVERAGE HOURLY EARNINGS OF PRODUCTION AND NONSUPERVISORY EMPLOYEES"
                                },
                                {
                                    "data_type_code": "9",
                                    "data_type_text": "AVERAGE WEEKLY OVERTIME HOURS OF PRODUCTION AND NONSUPERVISORY EMPLOYEES"
                                },
                                {
                                    "data_type_code": "10",
                                    "data_type_text": "WOMEN EMPLOYEES"
                                },
                                {
                                    "data_type_code": "11",
                                    "data_type_text": "AVERAGE WEEKLY EARNINGS OF ALL EMPLOYEES"
                                },
                                {
                                    "data_type_code": "12",
                                    "data_type_text": "AVERAGE WEEKLY EARNINGS OF ALL EMPLOYEES"
                                },
                                {
                                    "data_type_code": "13",
                                    "data_type_text": "AVERAGE HOURLY EARNINGS OF ALL EMPLOYEES"
                                },
                                {
                                    "data_type_code": "15",
                                    "data_type_text": "AVERAGE HOURLY EARNINGS OF ALL EMPLOYEES"
                                },
                                {
                                    "data_type_code": "16",
                                    "data_type_text": "INDEXES OF AGGREGATE WEEKLY HOURS OF ALL EMPLOYEES"
                                },
                                {
                                    "data_type_code": "17",
                                    "data_type_text": "INDEXES OF AGGREGATE WEEKLY PAYROLLS OF ALL EMPLOYEES"
                                },
                                {
                                    "data_type_code": "19",
                                    "data_type_text": "AVERAGE WEEKLY HOURS OF ALL EMPLOYEES"
                                },
                                {
                                    "data_type_code": "20",
                                    "data_type_text": "AVERAGE WEEKLY OVERTIME HOURS OF ALL EMPLOYEES"
                                },
                                {
                                    "data_type_code": "21",
                                    "data_type_text": "DIFFUSION INDEXES"
                                },
                                {
                                    "data_type_code": "22",
                                    "data_type_text": "DIFFUSION INDEXES"
                                },
                                {
                                    "data_type_code": "23",
                                    "data_type_text": "DIFFUSION INDEXES"
                                },
                                {
                                    "data_type_code": "24",
                                    "data_type_text": "DIFFUSION INDEXES"
                                },
                                {
                                    "data_type_code": "25",
                                    "data_type_text": "ALL EMPLOYEES"
                                },
                                {
                                    "data_type_code": "26",
                                    "data_type_text": "ALL EMPLOYEES"
                                },
                                {
                                    "data_type_code": "30",
                                    "data_type_text": "AVERAGE WEEKLY EARNINGS OF PRODUCTION AND NONSUPERVISORY EMPLOYEES"
                                },
                                {
                                    "data_type_code": "31",
                                    "data_type_text": "AVERAGE WEEKLY EARNINGS OF PRODUCTION AND NONSUPERVISORY EMPLOYEES"
                                },
                                {
                                    "data_type_code": "32",
                                    "data_type_text": "AVERAGE HOURLY EARNINGS OF PRODUCTION AND NONSUPERVISORY EMPLOYEES"
                                },
                                {
                                    "data_type_code": "33",
                                    "data_type_text": "AVERAGE HOURLY EARNINGS OF PRODUCTION AND NONSUPERVISORY EMPLOYEES"
                                },
                                {
                                    "data_type_code": "34",
                                    "data_type_text": "INDEXES OF AGGREGATE WEEKLY HOURS OF PRODUCTION AND NONSUPERVISORY EMPLOYEES"
                                },
                                {
                                    "data_type_code": "35",
                                    "data_type_text": "INDEXES OF AGGREGATE WEEKLY PAYROLLS OF PRODUCTION AND NONSUPERVISORY EMPLOYEES"
                                },
                                {
                                    "data_type_code": "36",
                                    "data_type_text": "AVERAGE WEEKLY HOURS"
                                },
                                {
                                    "data_type_code": "37",
                                    "data_type_text": "AVERAGE WEEKLY OVERTIME HOURS"
                                },
                                {
                                    "data_type_code": "38",
                                    "data_type_text": "PRODUCTION AND NONSUPERVISORY EMPLOYEES-TO-ALL EMPLOYEES RATIO"
                                },
                                {
                                    "data_type_code": "39",
                                    "data_type_text": "WOMEN EMPLOYEES-TO-ALL EMPLOYEES RATIO"
                                },
                                {
                                    "data_type_code": "56",
                                    "data_type_text": "AGGREGATE WEEKLY HOURS OF ALL EMPLOYEES"
                                },
                                {
                                    "data_type_code": "57",
                                    "data_type_text": "AGGREGATE WEEKLY PAYROLLS OF ALL EMPLOYEES"
                                },
                                {
                                    "data_type_code": "58",
                                    "data_type_text": "AGGREGATE WEEKLY OVERTIME HOURS OF ALL EMPLOYEES"
                                },
                                {
                                    "data_type_code": "81",
                                    "data_type_text": "AGGREGATE WEEKLY HOURS OF PRODUCTION AND NONSUPERVISORY EMPLOYEES"
                                },
                                {
                                    "data_type_code": "82",
                                    "data_type_text": "AGGREGATE WEEKLY PAYROLLS OF PRODUCTION AND NONSUPERVISORY EMPLOYEES"
                                },
                                {
                                    "data_type_code": "83",
                                    "data_type_text": "AGGREGATE WEEKLY OVERTIME HOURS OF PRODUCTION AND NONSUPERVISORY EMPLOYEES"
                                },
                                {
                                    "data_type_code": "86",
                                    "data_type_text": "1-MONTH CONFIDENCE INTERVAL"
                                },
                                {
                                    "data_type_code": "87",
                                    "data_type_text": "3-MONTH CONFIDENCE INTERVAL"
                                },
                                {
                                    "data_type_code": "88",
                                    "data_type_text": "6-MONTH CONFIDENCE INTERVAL"
                                },
                                {
                                    "data_type_code": "89",
                                    "data_type_text": "12-MONTH CONFIDENCE INTERVAL"
                                },
                                {
                                    "data_type_code": "98",
                                    "data_type_text": "CPI-U 1982-84"
                                },
                                {
                                    "data_type_code": "99",
                                    "data_type_text": "CPI-W 1982-84"
                                }
                            ]
                        },
                        "text/html": "<table><tr><th>data_type_code</th><th>data_type_text</th></tr><tr><td>1</td><td>ALL EMPLOYEES</td></tr><tr><td>2</td><td>AVERAGE WEEKLY HOURS OF ALL EMPLOYEES</td></tr><tr><td>3</td><td>AVERAGE HOURLY EARNINGS OF ALL EMPLOYEES</td></tr><tr><td>4</td><td>AVERAGE WEEKLY OVERTIME HOURS OF ALL EMPLOYEES</td></tr><tr><td>6</td><td>PRODUCTION AND NONSUPERVISORY EMPLOYEES</td></tr><tr><td>7</td><td>AVERAGE WEEKLY HOURS OF PRODUCTION AND NONSUPERVISORY EMPLOYEES</td></tr><tr><td>8</td><td>AVERAGE HOURLY EARNINGS OF PRODUCTION AND NONSUPERVISORY EMPLOYEES</td></tr><tr><td>9</td><td>AVERAGE WEEKLY OVERTIME HOURS OF PRODUCTION AND NONSUPERVISORY EMPLOYEES</td></tr><tr><td>10</td><td>WOMEN EMPLOYEES</td></tr><tr><td>11</td><td>AVERAGE WEEKLY EARNINGS OF ALL EMPLOYEES</td></tr><tr><td>12</td><td>AVERAGE WEEKLY EARNINGS OF ALL EMPLOYEES</td></tr><tr><td>13</td><td>AVERAGE HOURLY EARNINGS OF ALL EMPLOYEES</td></tr><tr><td>15</td><td>AVERAGE HOURLY EARNINGS OF ALL EMPLOYEES</td></tr><tr><td>16</td><td>INDEXES OF AGGREGATE WEEKLY HOURS OF ALL EMPLOYEES</td></tr><tr><td>17</td><td>INDEXES OF AGGREGATE WEEKLY PAYROLLS OF ALL EMPLOYEES</td></tr><tr><td>19</td><td>AVERAGE WEEKLY HOURS OF ALL EMPLOYEES</td></tr><tr><td>20</td><td>AVERAGE WEEKLY OVERTIME HOURS OF ALL EMPLOYEES</td></tr><tr><td>21</td><td>DIFFUSION INDEXES</td></tr><tr><td>22</td><td>DIFFUSION INDEXES</td></tr><tr><td>23</td><td>DIFFUSION INDEXES</td></tr><tr><td>24</td><td>DIFFUSION INDEXES</td></tr><tr><td>25</td><td>ALL EMPLOYEES</td></tr><tr><td>26</td><td>ALL EMPLOYEES</td></tr><tr><td>30</td><td>AVERAGE WEEKLY EARNINGS OF PRODUCTION AND NONSUPERVISORY EMPLOYEES</td></tr><tr><td>31</td><td>AVERAGE WEEKLY EARNINGS OF PRODUCTION AND NONSUPERVISORY EMPLOYEES</td></tr><tr><td>32</td><td>AVERAGE HOURLY EARNINGS OF PRODUCTION AND NONSUPERVISORY EMPLOYEES</td></tr><tr><td>33</td><td>AVERAGE HOURLY EARNINGS OF PRODUCTION AND NONSUPERVISORY EMPLOYEES</td></tr><tr><td>34</td><td>INDEXES OF AGGREGATE WEEKLY HOURS OF PRODUCTION AND NONSUPERVISORY EMPLOYEES</td></tr><tr><td>35</td><td>INDEXES OF AGGREGATE WEEKLY PAYROLLS OF PRODUCTION AND NONSUPERVISORY EMPLOYEES</td></tr><tr><td>36</td><td>AVERAGE WEEKLY HOURS</td></tr><tr><td>37</td><td>AVERAGE WEEKLY OVERTIME HOURS</td></tr><tr><td>38</td><td>PRODUCTION AND NONSUPERVISORY EMPLOYEES-TO-ALL EMPLOYEES RATIO</td></tr><tr><td>39</td><td>WOMEN EMPLOYEES-TO-ALL EMPLOYEES RATIO</td></tr><tr><td>56</td><td>AGGREGATE WEEKLY HOURS OF ALL EMPLOYEES</td></tr><tr><td>57</td><td>AGGREGATE WEEKLY PAYROLLS OF ALL EMPLOYEES</td></tr><tr><td>58</td><td>AGGREGATE WEEKLY OVERTIME HOURS OF ALL EMPLOYEES</td></tr><tr><td>81</td><td>AGGREGATE WEEKLY HOURS OF PRODUCTION AND NONSUPERVISORY EMPLOYEES</td></tr><tr><td>82</td><td>AGGREGATE WEEKLY PAYROLLS OF PRODUCTION AND NONSUPERVISORY EMPLOYEES</td></tr><tr><td>83</td><td>AGGREGATE WEEKLY OVERTIME HOURS OF PRODUCTION AND NONSUPERVISORY EMPLOYEES</td></tr><tr><td>86</td><td>1-MONTH CONFIDENCE INTERVAL</td></tr><tr><td>87</td><td>3-MONTH CONFIDENCE INTERVAL</td></tr><tr><td>88</td><td>6-MONTH CONFIDENCE INTERVAL</td></tr><tr><td>89</td><td>12-MONTH CONFIDENCE INTERVAL</td></tr><tr><td>98</td><td>CPI-U 1982-84</td></tr><tr><td>99</td><td>CPI-W 1982-84</td></tr></table>"
                    },
                    "metadata": {}
                }
            ],
            "execution_count": 7
        },
        {
            "cell_type": "code",
            "source": [
                "--instead of drawing a picture, my first step was to explore the database using Azure's built-in tools\n",
                "--i ran a few queries by right clicking the tables and pressing \"select top 1000\" to see what the data looked liked\n",
                "     "
            ],
            "metadata": {
                "language": "sql",
                "azdata_cell_guid": "b37fc2e9-ff08-416f-bb0f-12f3905ccf83"
            },
            "outputs": [],
            "execution_count": null
        },
        {
            "cell_type": "markdown",
            "source": [
                "2. <span style=\"background-color: rgb(255, 255, 255); color: rgb(102, 102, 102); font-family: Arvo, serif; font-size: 10pt; white-space: pre-wrap;\">What is the datatype for women employees? 10 women employees and 39 women employees to all employees ratio</span>"
            ],
            "metadata": {
                "azdata_cell_guid": "01b111b7-baf1-4617-88bc-cd442826c9c9"
            },
            "attachments": {}
        },
        {
            "cell_type": "code",
            "source": [
                "USE LaborStatisticsDB\n",
                "\n",
                "SELECT *\n",
                "FROM datatype\n",
                "WHERE data_type_text LIKE '%women%'"
            ],
            "metadata": {
                "azdata_cell_guid": "02fa547c-0bb7-4a40-81c2-f5c05154df04",
                "language": "sql",
                "tags": []
            },
            "outputs": [
                {
                    "output_type": "display_data",
                    "data": {
                        "text/html": "(2 rows affected)"
                    },
                    "metadata": {}
                },
                {
                    "output_type": "display_data",
                    "data": {
                        "text/html": "Total execution time: 00:00:00.041"
                    },
                    "metadata": {}
                },
                {
                    "output_type": "execute_result",
                    "execution_count": 5,
                    "data": {
                        "application/vnd.dataresource+json": {
                            "schema": {
                                "fields": [
                                    {
                                        "name": "data_type_code"
                                    },
                                    {
                                        "name": "data_type_text"
                                    }
                                ]
                            },
                            "data": [
                                {
                                    "data_type_code": "10",
                                    "data_type_text": "WOMEN EMPLOYEES"
                                },
                                {
                                    "data_type_code": "39",
                                    "data_type_text": "WOMEN EMPLOYEES-TO-ALL EMPLOYEES RATIO"
                                }
                            ]
                        },
                        "text/html": "<table><tr><th>data_type_code</th><th>data_type_text</th></tr><tr><td>10</td><td>WOMEN EMPLOYEES</td></tr><tr><td>39</td><td>WOMEN EMPLOYEES-TO-ALL EMPLOYEES RATIO</td></tr></table>"
                    },
                    "metadata": {}
                }
            ],
            "execution_count": 5
        },
        {
            "cell_type": "markdown",
            "source": [
                "3. <span style=\"background-color: rgb(255, 255, 255); font-size: 10pt; white-space: pre-wrap; color: rgb(102, 102, 102); font-family: Arvo, serif;\">What is the series id for&nbsp; women employees in the commercial banking industry in the financial activities supersector? </span> <span style=\"font-size: 13.3333px; white-space: pre-wrap;\">CES5552211010</span>"
            ],
            "metadata": {
                "azdata_cell_guid": "325f85cc-9545-47b3-b975-3aab6278e4ea"
            },
            "attachments": {}
        },
        {
            "cell_type": "code",
            "source": [
                "SELECT *--series_id, series_title\n",
                "FROM LaborStatisticsDB.dbo.series\n",
                "WHERE series_title = 'women employees' and industry_code=55522110\n",
                "\n",
                "\n",
                "SELECT *--industry_code, industry_name\n",
                "FROM LaborStatisticsDB.dbo.industry\n",
                "WHERE industry_name = 'Commercial Banking' and industry_code=55522110\n",
                "\n",
                "SELECT *\n",
                "FROM LaborStatisticsDB.dbo.supersector\n",
                "WHERE supersector_name = 'Financial Activities'"
            ],
            "metadata": {
                "azdata_cell_guid": "1315af1f-45f8-457d-8bbe-8e9f46303fca",
                "language": "sql"
            },
            "outputs": [
                {
                    "output_type": "display_data",
                    "data": {
                        "text/html": "(2 rows affected)"
                    },
                    "metadata": {}
                },
                {
                    "output_type": "display_data",
                    "data": {
                        "text/html": "(1 row affected)"
                    },
                    "metadata": {}
                },
                {
                    "output_type": "display_data",
                    "data": {
                        "text/html": "(1 row affected)"
                    },
                    "metadata": {}
                },
                {
                    "output_type": "display_data",
                    "data": {
                        "text/html": "Total execution time: 00:00:00.065"
                    },
                    "metadata": {}
                },
                {
                    "output_type": "execute_result",
                    "execution_count": 16,
                    "data": {
                        "application/vnd.dataresource+json": {
                            "schema": {
                                "fields": [
                                    {
                                        "name": "series_id"
                                    },
                                    {
                                        "name": "supersector_code"
                                    },
                                    {
                                        "name": "industry_code"
                                    },
                                    {
                                        "name": "data_type_code"
                                    },
                                    {
                                        "name": "seasonal"
                                    },
                                    {
                                        "name": "series_title"
                                    }
                                ]
                            },
                            "data": [
                                {
                                    "series_id": "CES5552211010",
                                    "supersector_code": "55",
                                    "industry_code": "55522110",
                                    "data_type_code": "10",
                                    "seasonal": "S",
                                    "series_title": "Women employees"
                                },
                                {
                                    "series_id": "CEU5552211010",
                                    "supersector_code": "55",
                                    "industry_code": "55522110",
                                    "data_type_code": "10",
                                    "seasonal": "U",
                                    "series_title": "Women employees"
                                }
                            ]
                        },
                        "text/html": "<table><tr><th>series_id</th><th>supersector_code</th><th>industry_code</th><th>data_type_code</th><th>seasonal</th><th>series_title</th></tr><tr><td>CES5552211010</td><td>55</td><td>55522110</td><td>10</td><td>S</td><td>Women employees</td></tr><tr><td>CEU5552211010</td><td>55</td><td>55522110</td><td>10</td><td>U</td><td>Women employees</td></tr></table>"
                    },
                    "metadata": {}
                },
                {
                    "output_type": "execute_result",
                    "execution_count": 16,
                    "data": {
                        "application/vnd.dataresource+json": {
                            "schema": {
                                "fields": [
                                    {
                                        "name": "id"
                                    },
                                    {
                                        "name": "industry_code"
                                    },
                                    {
                                        "name": "naics_code"
                                    },
                                    {
                                        "name": "publishing_status"
                                    },
                                    {
                                        "name": "industry_name"
                                    },
                                    {
                                        "name": "display_level"
                                    },
                                    {
                                        "name": "selectable"
                                    },
                                    {
                                        "name": "sort_sequence"
                                    }
                                ]
                            },
                            "data": [
                                {
                                    "id": "563",
                                    "industry_code": "55522110",
                                    "naics_code": "52211",
                                    "publishing_status": "A",
                                    "industry_name": "Commercial banking",
                                    "display_level": "6",
                                    "selectable": "T",
                                    "sort_sequence": "564"
                                }
                            ]
                        },
                        "text/html": "<table><tr><th>id</th><th>industry_code</th><th>naics_code</th><th>publishing_status</th><th>industry_name</th><th>display_level</th><th>selectable</th><th>sort_sequence</th></tr><tr><td>563</td><td>55522110</td><td>52211</td><td>A</td><td>Commercial banking</td><td>6</td><td>T</td><td>564</td></tr></table>"
                    },
                    "metadata": {}
                },
                {
                    "output_type": "execute_result",
                    "execution_count": 16,
                    "data": {
                        "application/vnd.dataresource+json": {
                            "schema": {
                                "fields": [
                                    {
                                        "name": "supersector_code"
                                    },
                                    {
                                        "name": "supersector_name"
                                    }
                                ]
                            },
                            "data": [
                                {
                                    "supersector_code": "55",
                                    "supersector_name": "Financial activities"
                                }
                            ]
                        },
                        "text/html": "<table><tr><th>supersector_code</th><th>supersector_name</th></tr><tr><td>55</td><td>Financial activities</td></tr></table>"
                    },
                    "metadata": {}
                }
            ],
            "execution_count": 16
        },
        {
            "cell_type": "markdown",
            "source": [
                "## <span style=\"font-size: 12pt; font-family: Montserrat, sans-serif; color: rgb(53, 74, 95); background-color: rgb(255, 255, 255); font-weight: 700; font-variant-numeric: normal; font-variant-east-asian: normal; vertical-align: baseline; white-space: pre-wrap;\">Join in on the Fun</span>\n",
                "\n",
                "<span style=\"font-size: 10pt; font-family: Arvo, serif; color: rgb(102, 102, 102); background-color: rgb(255, 255, 255); font-variant-numeric: normal; font-variant-east-asian: normal; vertical-align: baseline; white-space: pre-wrap;\">Time to start joining! You can choose the type of join you use, just make sure to make a&nbsp; note!</span>\n",
                "\n",
                "1. <span style=\"background-color: rgb(255, 255, 255); font-size: 10pt; white-space: pre-wrap; color: rgb(102, 102, 102); font-family: Arvo, serif;\">Join&nbsp; annual_2016 with series on series_id. We only want the data in the annual_2016 table to be included in the result.</span>"
            ],
            "metadata": {
                "azdata_cell_guid": "ec1dfc63-ad41-4349-8c26-1d326ace8c6c"
            },
            "attachments": {}
        },
        {
            "cell_type": "code",
            "source": [
                "SELECT TOP 50 a.id, a.series_id, a.year, a.period, a.value, a.footnote_codes, a.original_file\n",
                "FROM LaborStatisticsDB.dbo.annual_2016 AS a\n",
                "JOIN LaborStatisticsDB.dbo.series AS s\n",
                "ON a.series_id = s.series_id\n",
                "WHERE a.year = 2016;\n",
                ""
            ],
            "metadata": {
                "azdata_cell_guid": "cf90f0b4-c482-4fbb-ac17-d2244881caab",
                "language": "sql",
                "tags": []
            },
            "outputs": [
                {
                    "output_type": "display_data",
                    "data": {
                        "text/html": "(50 rows affected)"
                    },
                    "metadata": {}
                },
                {
                    "output_type": "display_data",
                    "data": {
                        "text/html": "Total execution time: 00:00:00.088"
                    },
                    "metadata": {}
                },
                {
                    "output_type": "execute_result",
                    "metadata": {},
                    "execution_count": 4,
                    "data": {
                        "application/vnd.dataresource+json": {
                            "schema": {
                                "fields": [
                                    {
                                        "name": "id"
                                    },
                                    {
                                        "name": "series_id"
                                    },
                                    {
                                        "name": "year"
                                    },
                                    {
                                        "name": "period"
                                    },
                                    {
                                        "name": "value"
                                    },
                                    {
                                        "name": "footnote_codes"
                                    },
                                    {
                                        "name": "original_file"
                                    }
                                ]
                            },
                            "data": [
                                {
                                    "id": "0",
                                    "series_id": "CEU5500000007",
                                    "year": "2016",
                                    "period": "M13",
                                    "value": "36.9",
                                    "footnote_codes": "NULL",
                                    "original_file": "ce.data.55c.FinancialActivities.ProductionEmployeeHoursAndEarnings.csv"
                                },
                                {
                                    "id": "1",
                                    "series_id": "CEU5500000008",
                                    "year": "2016",
                                    "period": "M13",
                                    "value": "26.11",
                                    "footnote_codes": "NULL",
                                    "original_file": "ce.data.55c.FinancialActivities.ProductionEmployeeHoursAndEarnings.csv"
                                },
                                {
                                    "id": "2",
                                    "series_id": "CEU5500000030",
                                    "year": "2016",
                                    "period": "M13",
                                    "value": "962.73",
                                    "footnote_codes": "NULL",
                                    "original_file": "ce.data.55c.FinancialActivities.ProductionEmployeeHoursAndEarnings.csv"
                                },
                                {
                                    "id": "3",
                                    "series_id": "CEU5500000031",
                                    "year": "2016",
                                    "period": "M13",
                                    "value": "411.29",
                                    "footnote_codes": "NULL",
                                    "original_file": "ce.data.55c.FinancialActivities.ProductionEmployeeHoursAndEarnings.csv"
                                },
                                {
                                    "id": "4",
                                    "series_id": "CEU5500000032",
                                    "year": "2016",
                                    "period": "M13",
                                    "value": "11.15",
                                    "footnote_codes": "NULL",
                                    "original_file": "ce.data.55c.FinancialActivities.ProductionEmployeeHoursAndEarnings.csv"
                                },
                                {
                                    "id": "5",
                                    "series_id": "CEU5500000034",
                                    "year": "2016",
                                    "period": "M13",
                                    "value": "111.6",
                                    "footnote_codes": "NULL",
                                    "original_file": "ce.data.55c.FinancialActivities.ProductionEmployeeHoursAndEarnings.csv"
                                },
                                {
                                    "id": "6",
                                    "series_id": "CEU5500000035",
                                    "year": "2016",
                                    "period": "M13",
                                    "value": "179.2",
                                    "footnote_codes": "NULL",
                                    "original_file": "ce.data.55c.FinancialActivities.ProductionEmployeeHoursAndEarnings.csv"
                                },
                                {
                                    "id": "7",
                                    "series_id": "CEU5500000081",
                                    "year": "2016",
                                    "period": "M13",
                                    "value": "236997",
                                    "footnote_codes": "NULL",
                                    "original_file": "ce.data.55c.FinancialActivities.ProductionEmployeeHoursAndEarnings.csv"
                                },
                                {
                                    "id": "8",
                                    "series_id": "CEU5500000082",
                                    "year": "2016",
                                    "period": "M13",
                                    "value": "6189003",
                                    "footnote_codes": "NULL",
                                    "original_file": "ce.data.55c.FinancialActivities.ProductionEmployeeHoursAndEarnings.csv"
                                },
                                {
                                    "id": "9",
                                    "series_id": "CEU5552200007",
                                    "year": "2016",
                                    "period": "M13",
                                    "value": "37.3",
                                    "footnote_codes": "NULL",
                                    "original_file": "ce.data.55c.FinancialActivities.ProductionEmployeeHoursAndEarnings.csv"
                                },
                                {
                                    "id": "10",
                                    "series_id": "CEU5552200008",
                                    "year": "2016",
                                    "period": "M13",
                                    "value": "22.37",
                                    "footnote_codes": "NULL",
                                    "original_file": "ce.data.55c.FinancialActivities.ProductionEmployeeHoursAndEarnings.csv"
                                },
                                {
                                    "id": "11",
                                    "series_id": "CEU5552200030",
                                    "year": "2016",
                                    "period": "M13",
                                    "value": "833.43",
                                    "footnote_codes": "NULL",
                                    "original_file": "ce.data.55c.FinancialActivities.ProductionEmployeeHoursAndEarnings.csv"
                                },
                                {
                                    "id": "12",
                                    "series_id": "CEU5552200031",
                                    "year": "2016",
                                    "period": "M13",
                                    "value": "356.05",
                                    "footnote_codes": "NULL",
                                    "original_file": "ce.data.55c.FinancialActivities.ProductionEmployeeHoursAndEarnings.csv"
                                },
                                {
                                    "id": "13",
                                    "series_id": "CEU5552200032",
                                    "year": "2016",
                                    "period": "M13",
                                    "value": "9.56",
                                    "footnote_codes": "NULL",
                                    "original_file": "ce.data.55c.FinancialActivities.ProductionEmployeeHoursAndEarnings.csv"
                                },
                                {
                                    "id": "14",
                                    "series_id": "CEU5552200034",
                                    "year": "2016",
                                    "period": "M13",
                                    "value": "104.2",
                                    "footnote_codes": "NULL",
                                    "original_file": "ce.data.55c.FinancialActivities.ProductionEmployeeHoursAndEarnings.csv"
                                },
                                {
                                    "id": "15",
                                    "series_id": "CEU5552200035",
                                    "year": "2016",
                                    "period": "M13",
                                    "value": "162.5",
                                    "footnote_codes": "NULL",
                                    "original_file": "ce.data.55c.FinancialActivities.ProductionEmployeeHoursAndEarnings.csv"
                                },
                                {
                                    "id": "16",
                                    "series_id": "CEU5552200081",
                                    "year": "2016",
                                    "period": "M13",
                                    "value": "73459",
                                    "footnote_codes": "NULL",
                                    "original_file": "ce.data.55c.FinancialActivities.ProductionEmployeeHoursAndEarnings.csv"
                                },
                                {
                                    "id": "17",
                                    "series_id": "CEU5552200082",
                                    "year": "2016",
                                    "period": "M13",
                                    "value": "1643184",
                                    "footnote_codes": "NULL",
                                    "original_file": "ce.data.55c.FinancialActivities.ProductionEmployeeHoursAndEarnings.csv"
                                },
                                {
                                    "id": "18",
                                    "series_id": "CEU5552210007",
                                    "year": "2016",
                                    "period": "M13",
                                    "value": "37",
                                    "footnote_codes": "NULL",
                                    "original_file": "ce.data.55c.FinancialActivities.ProductionEmployeeHoursAndEarnings.csv"
                                },
                                {
                                    "id": "19",
                                    "series_id": "CEU5552210008",
                                    "year": "2016",
                                    "period": "M13",
                                    "value": "20.25",
                                    "footnote_codes": "NULL",
                                    "original_file": "ce.data.55c.FinancialActivities.ProductionEmployeeHoursAndEarnings.csv"
                                },
                                {
                                    "id": "20",
                                    "series_id": "CEU5552210030",
                                    "year": "2016",
                                    "period": "M13",
                                    "value": "749.49",
                                    "footnote_codes": "NULL",
                                    "original_file": "ce.data.55c.FinancialActivities.ProductionEmployeeHoursAndEarnings.csv"
                                },
                                {
                                    "id": "21",
                                    "series_id": "CEU5552210031",
                                    "year": "2016",
                                    "period": "M13",
                                    "value": "320.19",
                                    "footnote_codes": "NULL",
                                    "original_file": "ce.data.55c.FinancialActivities.ProductionEmployeeHoursAndEarnings.csv"
                                },
                                {
                                    "id": "22",
                                    "series_id": "CEU5552210032",
                                    "year": "2016",
                                    "period": "M13",
                                    "value": "8.65",
                                    "footnote_codes": "NULL",
                                    "original_file": "ce.data.55c.FinancialActivities.ProductionEmployeeHoursAndEarnings.csv"
                                },
                                {
                                    "id": "23",
                                    "series_id": "CEU5552210034",
                                    "year": "2016",
                                    "period": "M13",
                                    "value": "101.8",
                                    "footnote_codes": "NULL",
                                    "original_file": "ce.data.55c.FinancialActivities.ProductionEmployeeHoursAndEarnings.csv"
                                },
                                {
                                    "id": "24",
                                    "series_id": "CEU5552210035",
                                    "year": "2016",
                                    "period": "M13",
                                    "value": "161.7",
                                    "footnote_codes": "NULL",
                                    "original_file": "ce.data.55c.FinancialActivities.ProductionEmployeeHoursAndEarnings.csv"
                                },
                                {
                                    "id": "25",
                                    "series_id": "CEU5552210081",
                                    "year": "2016",
                                    "period": "M13",
                                    "value": "46102",
                                    "footnote_codes": "NULL",
                                    "original_file": "ce.data.55c.FinancialActivities.ProductionEmployeeHoursAndEarnings.csv"
                                },
                                {
                                    "id": "26",
                                    "series_id": "CEU5552210082",
                                    "year": "2016",
                                    "period": "M13",
                                    "value": "933434",
                                    "footnote_codes": "NULL",
                                    "original_file": "ce.data.55c.FinancialActivities.ProductionEmployeeHoursAndEarnings.csv"
                                },
                                {
                                    "id": "27",
                                    "series_id": "CEU5552211007",
                                    "year": "2016",
                                    "period": "M13",
                                    "value": "37.1",
                                    "footnote_codes": "NULL",
                                    "original_file": "ce.data.55c.FinancialActivities.ProductionEmployeeHoursAndEarnings.csv"
                                },
                                {
                                    "id": "28",
                                    "series_id": "CEU5552211008",
                                    "year": "2016",
                                    "period": "M13",
                                    "value": "20.35",
                                    "footnote_codes": "NULL",
                                    "original_file": "ce.data.55c.FinancialActivities.ProductionEmployeeHoursAndEarnings.csv"
                                },
                                {
                                    "id": "29",
                                    "series_id": "CEU5552211030",
                                    "year": "2016",
                                    "period": "M13",
                                    "value": "754.09",
                                    "footnote_codes": "NULL",
                                    "original_file": "ce.data.55c.FinancialActivities.ProductionEmployeeHoursAndEarnings.csv"
                                },
                                {
                                    "id": "30",
                                    "series_id": "CEU5552211031",
                                    "year": "2016",
                                    "period": "M13",
                                    "value": "322.16",
                                    "footnote_codes": "NULL",
                                    "original_file": "ce.data.55c.FinancialActivities.ProductionEmployeeHoursAndEarnings.csv"
                                },
                                {
                                    "id": "31",
                                    "series_id": "CEU5552211032",
                                    "year": "2016",
                                    "period": "M13",
                                    "value": "8.69",
                                    "footnote_codes": "NULL",
                                    "original_file": "ce.data.55c.FinancialActivities.ProductionEmployeeHoursAndEarnings.csv"
                                },
                                {
                                    "id": "32",
                                    "series_id": "CEU5552211034",
                                    "year": "2016",
                                    "period": "M13",
                                    "value": "106.8",
                                    "footnote_codes": "NULL",
                                    "original_file": "ce.data.55c.FinancialActivities.ProductionEmployeeHoursAndEarnings.csv"
                                },
                                {
                                    "id": "33",
                                    "series_id": "CEU5552211035",
                                    "year": "2016",
                                    "period": "M13",
                                    "value": "173.2",
                                    "footnote_codes": "NULL",
                                    "original_file": "ce.data.55c.FinancialActivities.ProductionEmployeeHoursAndEarnings.csv"
                                },
                                {
                                    "id": "34",
                                    "series_id": "CEU5552211081",
                                    "year": "2016",
                                    "period": "M13",
                                    "value": "35082",
                                    "footnote_codes": "NULL",
                                    "original_file": "ce.data.55c.FinancialActivities.ProductionEmployeeHoursAndEarnings.csv"
                                },
                                {
                                    "id": "35",
                                    "series_id": "CEU5552211082",
                                    "year": "2016",
                                    "period": "M13",
                                    "value": "713870",
                                    "footnote_codes": "NULL",
                                    "original_file": "ce.data.55c.FinancialActivities.ProductionEmployeeHoursAndEarnings.csv"
                                },
                                {
                                    "id": "36",
                                    "series_id": "CEU5552212007",
                                    "year": "2016",
                                    "period": "M13",
                                    "value": "36.4",
                                    "footnote_codes": "NULL",
                                    "original_file": "ce.data.55c.FinancialActivities.ProductionEmployeeHoursAndEarnings.csv"
                                },
                                {
                                    "id": "37",
                                    "series_id": "CEU5552212008",
                                    "year": "2016",
                                    "period": "M13",
                                    "value": "20.53",
                                    "footnote_codes": "NULL",
                                    "original_file": "ce.data.55c.FinancialActivities.ProductionEmployeeHoursAndEarnings.csv"
                                },
                                {
                                    "id": "38",
                                    "series_id": "CEU5552212030",
                                    "year": "2016",
                                    "period": "M13",
                                    "value": "746.56",
                                    "footnote_codes": "NULL",
                                    "original_file": "ce.data.55c.FinancialActivities.ProductionEmployeeHoursAndEarnings.csv"
                                },
                                {
                                    "id": "39",
                                    "series_id": "CEU5552212031",
                                    "year": "2016",
                                    "period": "M13",
                                    "value": "318.94",
                                    "footnote_codes": "NULL",
                                    "original_file": "ce.data.55c.FinancialActivities.ProductionEmployeeHoursAndEarnings.csv"
                                },
                                {
                                    "id": "40",
                                    "series_id": "CEU5552212032",
                                    "year": "2016",
                                    "period": "M13",
                                    "value": "8.77",
                                    "footnote_codes": "NULL",
                                    "original_file": "ce.data.55c.FinancialActivities.ProductionEmployeeHoursAndEarnings.csv"
                                },
                                {
                                    "id": "41",
                                    "series_id": "CEU5552212034",
                                    "year": "2016",
                                    "period": "M13",
                                    "value": "52.4",
                                    "footnote_codes": "NULL",
                                    "original_file": "ce.data.55c.FinancialActivities.ProductionEmployeeHoursAndEarnings.csv"
                                },
                                {
                                    "id": "42",
                                    "series_id": "CEU5552212035",
                                    "year": "2016",
                                    "period": "M13",
                                    "value": "79",
                                    "footnote_codes": "NULL",
                                    "original_file": "ce.data.55c.FinancialActivities.ProductionEmployeeHoursAndEarnings.csv"
                                },
                                {
                                    "id": "43",
                                    "series_id": "CEU5552212081",
                                    "year": "2016",
                                    "period": "M13",
                                    "value": "3299",
                                    "footnote_codes": "NULL",
                                    "original_file": "ce.data.55c.FinancialActivities.ProductionEmployeeHoursAndEarnings.csv"
                                },
                                {
                                    "id": "44",
                                    "series_id": "CEU5552212082",
                                    "year": "2016",
                                    "period": "M13",
                                    "value": "67744",
                                    "footnote_codes": "NULL",
                                    "original_file": "ce.data.55c.FinancialActivities.ProductionEmployeeHoursAndEarnings.csv"
                                },
                                {
                                    "id": "45",
                                    "series_id": "CEU5552219007",
                                    "year": "2016",
                                    "period": "M13",
                                    "value": "37.1",
                                    "footnote_codes": "NULL",
                                    "original_file": "ce.data.55c.FinancialActivities.ProductionEmployeeHoursAndEarnings.csv"
                                },
                                {
                                    "id": "46",
                                    "series_id": "CEU5552219008",
                                    "year": "2016",
                                    "period": "M13",
                                    "value": "19.66",
                                    "footnote_codes": "NULL",
                                    "original_file": "ce.data.55c.FinancialActivities.ProductionEmployeeHoursAndEarnings.csv"
                                },
                                {
                                    "id": "47",
                                    "series_id": "CEU5552219030",
                                    "year": "2016",
                                    "period": "M13",
                                    "value": "730.09",
                                    "footnote_codes": "NULL",
                                    "original_file": "ce.data.55c.FinancialActivities.ProductionEmployeeHoursAndEarnings.csv"
                                },
                                {
                                    "id": "48",
                                    "series_id": "CEU5552219031",
                                    "year": "2016",
                                    "period": "M13",
                                    "value": "311.9",
                                    "footnote_codes": "NULL",
                                    "original_file": "ce.data.55c.FinancialActivities.ProductionEmployeeHoursAndEarnings.csv"
                                },
                                {
                                    "id": "49",
                                    "series_id": "CEU5552219032",
                                    "year": "2016",
                                    "period": "M13",
                                    "value": "8.4",
                                    "footnote_codes": "NULL",
                                    "original_file": "ce.data.55c.FinancialActivities.ProductionEmployeeHoursAndEarnings.csv"
                                }
                            ]
                        },
                        "text/html": [
                            "<table>",
                            "<tr><th>id</th><th>series_id</th><th>year</th><th>period</th><th>value</th><th>footnote_codes</th><th>original_file</th></tr>",
                            "<tr><td>0</td><td>CEU5500000007</td><td>2016</td><td>M13</td><td>36.9</td><td>NULL</td><td>ce.data.55c.FinancialActivities.ProductionEmployeeHoursAndEarnings.csv</td></tr>",
                            "<tr><td>1</td><td>CEU5500000008</td><td>2016</td><td>M13</td><td>26.11</td><td>NULL</td><td>ce.data.55c.FinancialActivities.ProductionEmployeeHoursAndEarnings.csv</td></tr>",
                            "<tr><td>2</td><td>CEU5500000030</td><td>2016</td><td>M13</td><td>962.73</td><td>NULL</td><td>ce.data.55c.FinancialActivities.ProductionEmployeeHoursAndEarnings.csv</td></tr>",
                            "<tr><td>3</td><td>CEU5500000031</td><td>2016</td><td>M13</td><td>411.29</td><td>NULL</td><td>ce.data.55c.FinancialActivities.ProductionEmployeeHoursAndEarnings.csv</td></tr>",
                            "<tr><td>4</td><td>CEU5500000032</td><td>2016</td><td>M13</td><td>11.15</td><td>NULL</td><td>ce.data.55c.FinancialActivities.ProductionEmployeeHoursAndEarnings.csv</td></tr>",
                            "<tr><td>5</td><td>CEU5500000034</td><td>2016</td><td>M13</td><td>111.6</td><td>NULL</td><td>ce.data.55c.FinancialActivities.ProductionEmployeeHoursAndEarnings.csv</td></tr>",
                            "<tr><td>6</td><td>CEU5500000035</td><td>2016</td><td>M13</td><td>179.2</td><td>NULL</td><td>ce.data.55c.FinancialActivities.ProductionEmployeeHoursAndEarnings.csv</td></tr>",
                            "<tr><td>7</td><td>CEU5500000081</td><td>2016</td><td>M13</td><td>236997</td><td>NULL</td><td>ce.data.55c.FinancialActivities.ProductionEmployeeHoursAndEarnings.csv</td></tr>",
                            "<tr><td>8</td><td>CEU5500000082</td><td>2016</td><td>M13</td><td>6189003</td><td>NULL</td><td>ce.data.55c.FinancialActivities.ProductionEmployeeHoursAndEarnings.csv</td></tr>",
                            "<tr><td>9</td><td>CEU5552200007</td><td>2016</td><td>M13</td><td>37.3</td><td>NULL</td><td>ce.data.55c.FinancialActivities.ProductionEmployeeHoursAndEarnings.csv</td></tr>",
                            "<tr><td>10</td><td>CEU5552200008</td><td>2016</td><td>M13</td><td>22.37</td><td>NULL</td><td>ce.data.55c.FinancialActivities.ProductionEmployeeHoursAndEarnings.csv</td></tr>",
                            "<tr><td>11</td><td>CEU5552200030</td><td>2016</td><td>M13</td><td>833.43</td><td>NULL</td><td>ce.data.55c.FinancialActivities.ProductionEmployeeHoursAndEarnings.csv</td></tr>",
                            "<tr><td>12</td><td>CEU5552200031</td><td>2016</td><td>M13</td><td>356.05</td><td>NULL</td><td>ce.data.55c.FinancialActivities.ProductionEmployeeHoursAndEarnings.csv</td></tr>",
                            "<tr><td>13</td><td>CEU5552200032</td><td>2016</td><td>M13</td><td>9.56</td><td>NULL</td><td>ce.data.55c.FinancialActivities.ProductionEmployeeHoursAndEarnings.csv</td></tr>",
                            "<tr><td>14</td><td>CEU5552200034</td><td>2016</td><td>M13</td><td>104.2</td><td>NULL</td><td>ce.data.55c.FinancialActivities.ProductionEmployeeHoursAndEarnings.csv</td></tr>",
                            "<tr><td>15</td><td>CEU5552200035</td><td>2016</td><td>M13</td><td>162.5</td><td>NULL</td><td>ce.data.55c.FinancialActivities.ProductionEmployeeHoursAndEarnings.csv</td></tr>",
                            "<tr><td>16</td><td>CEU5552200081</td><td>2016</td><td>M13</td><td>73459</td><td>NULL</td><td>ce.data.55c.FinancialActivities.ProductionEmployeeHoursAndEarnings.csv</td></tr>",
                            "<tr><td>17</td><td>CEU5552200082</td><td>2016</td><td>M13</td><td>1643184</td><td>NULL</td><td>ce.data.55c.FinancialActivities.ProductionEmployeeHoursAndEarnings.csv</td></tr>",
                            "<tr><td>18</td><td>CEU5552210007</td><td>2016</td><td>M13</td><td>37</td><td>NULL</td><td>ce.data.55c.FinancialActivities.ProductionEmployeeHoursAndEarnings.csv</td></tr>",
                            "<tr><td>19</td><td>CEU5552210008</td><td>2016</td><td>M13</td><td>20.25</td><td>NULL</td><td>ce.data.55c.FinancialActivities.ProductionEmployeeHoursAndEarnings.csv</td></tr>",
                            "<tr><td>20</td><td>CEU5552210030</td><td>2016</td><td>M13</td><td>749.49</td><td>NULL</td><td>ce.data.55c.FinancialActivities.ProductionEmployeeHoursAndEarnings.csv</td></tr>",
                            "<tr><td>21</td><td>CEU5552210031</td><td>2016</td><td>M13</td><td>320.19</td><td>NULL</td><td>ce.data.55c.FinancialActivities.ProductionEmployeeHoursAndEarnings.csv</td></tr>",
                            "<tr><td>22</td><td>CEU5552210032</td><td>2016</td><td>M13</td><td>8.65</td><td>NULL</td><td>ce.data.55c.FinancialActivities.ProductionEmployeeHoursAndEarnings.csv</td></tr>",
                            "<tr><td>23</td><td>CEU5552210034</td><td>2016</td><td>M13</td><td>101.8</td><td>NULL</td><td>ce.data.55c.FinancialActivities.ProductionEmployeeHoursAndEarnings.csv</td></tr>",
                            "<tr><td>24</td><td>CEU5552210035</td><td>2016</td><td>M13</td><td>161.7</td><td>NULL</td><td>ce.data.55c.FinancialActivities.ProductionEmployeeHoursAndEarnings.csv</td></tr>",
                            "<tr><td>25</td><td>CEU5552210081</td><td>2016</td><td>M13</td><td>46102</td><td>NULL</td><td>ce.data.55c.FinancialActivities.ProductionEmployeeHoursAndEarnings.csv</td></tr>",
                            "<tr><td>26</td><td>CEU5552210082</td><td>2016</td><td>M13</td><td>933434</td><td>NULL</td><td>ce.data.55c.FinancialActivities.ProductionEmployeeHoursAndEarnings.csv</td></tr>",
                            "<tr><td>27</td><td>CEU5552211007</td><td>2016</td><td>M13</td><td>37.1</td><td>NULL</td><td>ce.data.55c.FinancialActivities.ProductionEmployeeHoursAndEarnings.csv</td></tr>",
                            "<tr><td>28</td><td>CEU5552211008</td><td>2016</td><td>M13</td><td>20.35</td><td>NULL</td><td>ce.data.55c.FinancialActivities.ProductionEmployeeHoursAndEarnings.csv</td></tr>",
                            "<tr><td>29</td><td>CEU5552211030</td><td>2016</td><td>M13</td><td>754.09</td><td>NULL</td><td>ce.data.55c.FinancialActivities.ProductionEmployeeHoursAndEarnings.csv</td></tr>",
                            "<tr><td>30</td><td>CEU5552211031</td><td>2016</td><td>M13</td><td>322.16</td><td>NULL</td><td>ce.data.55c.FinancialActivities.ProductionEmployeeHoursAndEarnings.csv</td></tr>",
                            "<tr><td>31</td><td>CEU5552211032</td><td>2016</td><td>M13</td><td>8.69</td><td>NULL</td><td>ce.data.55c.FinancialActivities.ProductionEmployeeHoursAndEarnings.csv</td></tr>",
                            "<tr><td>32</td><td>CEU5552211034</td><td>2016</td><td>M13</td><td>106.8</td><td>NULL</td><td>ce.data.55c.FinancialActivities.ProductionEmployeeHoursAndEarnings.csv</td></tr>",
                            "<tr><td>33</td><td>CEU5552211035</td><td>2016</td><td>M13</td><td>173.2</td><td>NULL</td><td>ce.data.55c.FinancialActivities.ProductionEmployeeHoursAndEarnings.csv</td></tr>",
                            "<tr><td>34</td><td>CEU5552211081</td><td>2016</td><td>M13</td><td>35082</td><td>NULL</td><td>ce.data.55c.FinancialActivities.ProductionEmployeeHoursAndEarnings.csv</td></tr>",
                            "<tr><td>35</td><td>CEU5552211082</td><td>2016</td><td>M13</td><td>713870</td><td>NULL</td><td>ce.data.55c.FinancialActivities.ProductionEmployeeHoursAndEarnings.csv</td></tr>",
                            "<tr><td>36</td><td>CEU5552212007</td><td>2016</td><td>M13</td><td>36.4</td><td>NULL</td><td>ce.data.55c.FinancialActivities.ProductionEmployeeHoursAndEarnings.csv</td></tr>",
                            "<tr><td>37</td><td>CEU5552212008</td><td>2016</td><td>M13</td><td>20.53</td><td>NULL</td><td>ce.data.55c.FinancialActivities.ProductionEmployeeHoursAndEarnings.csv</td></tr>",
                            "<tr><td>38</td><td>CEU5552212030</td><td>2016</td><td>M13</td><td>746.56</td><td>NULL</td><td>ce.data.55c.FinancialActivities.ProductionEmployeeHoursAndEarnings.csv</td></tr>",
                            "<tr><td>39</td><td>CEU5552212031</td><td>2016</td><td>M13</td><td>318.94</td><td>NULL</td><td>ce.data.55c.FinancialActivities.ProductionEmployeeHoursAndEarnings.csv</td></tr>",
                            "<tr><td>40</td><td>CEU5552212032</td><td>2016</td><td>M13</td><td>8.77</td><td>NULL</td><td>ce.data.55c.FinancialActivities.ProductionEmployeeHoursAndEarnings.csv</td></tr>",
                            "<tr><td>41</td><td>CEU5552212034</td><td>2016</td><td>M13</td><td>52.4</td><td>NULL</td><td>ce.data.55c.FinancialActivities.ProductionEmployeeHoursAndEarnings.csv</td></tr>",
                            "<tr><td>42</td><td>CEU5552212035</td><td>2016</td><td>M13</td><td>79</td><td>NULL</td><td>ce.data.55c.FinancialActivities.ProductionEmployeeHoursAndEarnings.csv</td></tr>",
                            "<tr><td>43</td><td>CEU5552212081</td><td>2016</td><td>M13</td><td>3299</td><td>NULL</td><td>ce.data.55c.FinancialActivities.ProductionEmployeeHoursAndEarnings.csv</td></tr>",
                            "<tr><td>44</td><td>CEU5552212082</td><td>2016</td><td>M13</td><td>67744</td><td>NULL</td><td>ce.data.55c.FinancialActivities.ProductionEmployeeHoursAndEarnings.csv</td></tr>",
                            "<tr><td>45</td><td>CEU5552219007</td><td>2016</td><td>M13</td><td>37.1</td><td>NULL</td><td>ce.data.55c.FinancialActivities.ProductionEmployeeHoursAndEarnings.csv</td></tr>",
                            "<tr><td>46</td><td>CEU5552219008</td><td>2016</td><td>M13</td><td>19.66</td><td>NULL</td><td>ce.data.55c.FinancialActivities.ProductionEmployeeHoursAndEarnings.csv</td></tr>",
                            "<tr><td>47</td><td>CEU5552219030</td><td>2016</td><td>M13</td><td>730.09</td><td>NULL</td><td>ce.data.55c.FinancialActivities.ProductionEmployeeHoursAndEarnings.csv</td></tr>",
                            "<tr><td>48</td><td>CEU5552219031</td><td>2016</td><td>M13</td><td>311.9</td><td>NULL</td><td>ce.data.55c.FinancialActivities.ProductionEmployeeHoursAndEarnings.csv</td></tr>",
                            "<tr><td>49</td><td>CEU5552219032</td><td>2016</td><td>M13</td><td>8.4</td><td>NULL</td><td>ce.data.55c.FinancialActivities.ProductionEmployeeHoursAndEarnings.csv</td></tr>",
                            "</table>"
                        ]
                    }
                }
            ],
            "execution_count": 4
        },
        {
            "cell_type": "markdown",
            "source": [
                "2. <span style=\"background-color: rgb(255, 255, 255); font-size: 10pt; white-space: pre-wrap; color: rgb(102, 102, 102); font-family: Arvo, serif;\">Join series and datatype on data_type_code</span>"
            ],
            "metadata": {
                "azdata_cell_guid": "710b59ae-224b-4f9d-b1a4-4a6b89048bbb"
            },
            "attachments": {}
        },
        {
            "cell_type": "code",
            "source": [
                "WITH CTE AS (\n",
                "    SELECT s.series_id\n",
                "    FROM LaborStatisticsDB.dbo.series AS s\n",
                "    JOIN LaborStatisticsDB.dbo.industry AS i ON i.industry_code = s.industry_code\n",
                "    JOIN LaborStatisticsDB.dbo.supersector AS ss ON ss.supersector_code = s.supersector_code\n",
                "    WHERE i.industry_name = 'Commercial Banking'\n",
                "        AND ss.supersector_name = 'Financial Activities'\n",
                "        AND s.series_title = 'Women employees'\n",
                ")\n",
                "SELECT TOP 10 *\n",
                "FROM CTE\n",
                "JOIN LaborStatisticsDB.dbo.series AS s ON CTE.series_id = s.series_id\n",
                "JOIN LaborStatisticsDB.dbo.datatype AS d ON s.data_type_code = d.data_type_code;\n",
                "\n",
                ""
            ],
            "metadata": {
                "azdata_cell_guid": "b198b427-45b3-44fa-8273-dddb5adf8bbb",
                "language": "sql"
            },
            "outputs": [
                {
                    "output_type": "display_data",
                    "data": {
                        "text/html": "(2 rows affected)"
                    },
                    "metadata": {}
                },
                {
                    "output_type": "display_data",
                    "data": {
                        "text/html": "Total execution time: 00:00:00.113"
                    },
                    "metadata": {}
                },
                {
                    "output_type": "execute_result",
                    "metadata": {},
                    "execution_count": 8,
                    "data": {
                        "application/vnd.dataresource+json": {
                            "schema": {
                                "fields": [
                                    {
                                        "name": "series_id"
                                    },
                                    {
                                        "name": "series_id"
                                    },
                                    {
                                        "name": "supersector_code"
                                    },
                                    {
                                        "name": "industry_code"
                                    },
                                    {
                                        "name": "data_type_code"
                                    },
                                    {
                                        "name": "seasonal"
                                    },
                                    {
                                        "name": "series_title"
                                    },
                                    {
                                        "name": "data_type_code"
                                    },
                                    {
                                        "name": "data_type_text"
                                    }
                                ]
                            },
                            "data": [
                                {
                                    "series_id": "CES5552211010",
                                    "supersector_code": "55",
                                    "industry_code": "55522110",
                                    "data_type_code": "10",
                                    "seasonal": "S",
                                    "series_title": "Women employees",
                                    "data_type_text": "WOMEN EMPLOYEES"
                                },
                                {
                                    "series_id": "CEU5552211010",
                                    "supersector_code": "55",
                                    "industry_code": "55522110",
                                    "data_type_code": "10",
                                    "seasonal": "U",
                                    "series_title": "Women employees",
                                    "data_type_text": "WOMEN EMPLOYEES"
                                }
                            ]
                        },
                        "text/html": [
                            "<table>",
                            "<tr><th>series_id</th><th>series_id</th><th>supersector_code</th><th>industry_code</th><th>data_type_code</th><th>seasonal</th><th>series_title</th><th>data_type_code</th><th>data_type_text</th></tr>",
                            "<tr><td>CES5552211010</td><td>CES5552211010</td><td>55</td><td>55522110</td><td>10</td><td>S</td><td>Women employees</td><td>10</td><td>WOMEN EMPLOYEES</td></tr>",
                            "<tr><td>CEU5552211010</td><td>CEU5552211010</td><td>55</td><td>55522110</td><td>10</td><td>U</td><td>Women employees</td><td>10</td><td>WOMEN EMPLOYEES</td></tr>",
                            "</table>"
                        ]
                    }
                }
            ],
            "execution_count": 8
        },
        {
            "cell_type": "code",
            "source": [
                "-- SELECT TOP 10 *\n",
                "-- FROM LaborStatisticsDB.dbo.series AS s\n",
                "-- JOIN LaborStatisticsDB.dbo.datatype AS d\n",
                "-- ON s.data_type_code = d.data_type_code;"
            ],
            "metadata": {
                "azdata_cell_guid": "fca61371-c9b5-4823-a4b4-34c1279ece3e",
                "language": "sql"
            },
            "outputs": [
                {
                    "output_type": "display_data",
                    "data": {
                        "text/html": "Commands completed successfully."
                    },
                    "metadata": {}
                },
                {
                    "output_type": "display_data",
                    "data": {
                        "text/html": "Total execution time: 00:00:00.053"
                    },
                    "metadata": {}
                }
            ],
            "execution_count": 6
        },
        {
            "cell_type": "code",
            "source": [
                "-- SELECT series_id\n",
                "-- FROM LaborStatisticsDB.dbo.series\n",
                "-- WHERE data_type_code = 10 and industry_code = 55522110 and supersector_code = 55;"
            ],
            "metadata": {
                "azdata_cell_guid": "36c469e4-91ab-4185-93c7-52451006aca1",
                "language": "sql",
                "tags": []
            },
            "outputs": [
                {
                    "output_type": "display_data",
                    "data": {
                        "text/html": "(2 rows affected)"
                    },
                    "metadata": {}
                },
                {
                    "output_type": "display_data",
                    "data": {
                        "text/html": "Total execution time: 00:00:00.040"
                    },
                    "metadata": {}
                },
                {
                    "output_type": "execute_result",
                    "execution_count": 19,
                    "data": {
                        "application/vnd.dataresource+json": {
                            "schema": {
                                "fields": [
                                    {
                                        "name": "series_id"
                                    }
                                ]
                            },
                            "data": [
                                {
                                    "series_id": "CES5552211010"
                                },
                                {
                                    "series_id": "CEU5552211010"
                                }
                            ]
                        },
                        "text/html": "<table><tr><th>series_id</th></tr><tr><td>CES5552211010</td></tr><tr><td>CEU5552211010</td></tr></table>"
                    },
                    "metadata": {}
                }
            ],
            "execution_count": 19
        },
        {
            "cell_type": "code",
            "source": [
                "-- SELECT series_id FROM LaborStatisticsDB.dbo.series s\n",
                "-- JOIN LaborStatisticsDB.dbo.industry i ON i.industry_code = s.industry_code\n",
                "-- JOIN LaborStatisticsDB.dbo.supersector ss ON ss.supersector_code = s.supersector_code\n",
                "-- WHERE i.industry_name = 'Commercial Banking' \n",
                "--     and ss.supersector_name = 'Financial Activities' \n",
                "--     and s.series_title = 'Women employees'"
            ],
            "metadata": {
                "language": "sql",
                "azdata_cell_guid": "984f73d1-eb7e-45ac-a9dd-2a1c57847ecf"
            },
            "outputs": [
                {
                    "output_type": "display_data",
                    "data": {
                        "text/html": "(2 rows affected)"
                    },
                    "metadata": {}
                },
                {
                    "output_type": "display_data",
                    "data": {
                        "text/html": "Total execution time: 00:00:00.053"
                    },
                    "metadata": {}
                },
                {
                    "output_type": "execute_result",
                    "execution_count": 14,
                    "data": {
                        "application/vnd.dataresource+json": {
                            "schema": {
                                "fields": [
                                    {
                                        "name": "series_id"
                                    }
                                ]
                            },
                            "data": [
                                {
                                    "series_id": "CES5552211010"
                                },
                                {
                                    "series_id": "CEU5552211010"
                                }
                            ]
                        },
                        "text/html": "<table><tr><th>series_id</th></tr><tr><td>CES5552211010</td></tr><tr><td>CEU5552211010</td></tr></table>"
                    },
                    "metadata": {}
                }
            ],
            "execution_count": 14
        },
        {
            "cell_type": "markdown",
            "source": [
                "3. <span style=\"background-color: rgb(255, 255, 255); font-size: 10pt; white-space: pre-wrap; color: rgb(102, 102, 102); font-family: Arvo, serif;\">Join series and industry on industry_code</span>"
            ],
            "metadata": {
                "azdata_cell_guid": "78ac8ba4-2a6a-426f-af30-6b56d9d09054"
            },
            "attachments": {}
        },
        {
            "cell_type": "code",
            "source": [
                "SELECT top 10 *\n",
                "FROM LaborStatisticsDB.dbo.series as s\n",
                "JOIN LaborStatisticsDB.dbo.industry as i\n",
                "ON s.industry_code = i.industry_code"
            ],
            "metadata": {
                "azdata_cell_guid": "ac022766-e280-4d95-8362-1f2b18773662",
                "language": "sql"
            },
            "outputs": [
                {
                    "output_type": "display_data",
                    "data": {
                        "text/html": "(10 rows affected)"
                    },
                    "metadata": {}
                },
                {
                    "output_type": "display_data",
                    "data": {
                        "text/html": "Total execution time: 00:00:00.080"
                    },
                    "metadata": {}
                },
                {
                    "output_type": "execute_result",
                    "metadata": {},
                    "execution_count": 10,
                    "data": {
                        "application/vnd.dataresource+json": {
                            "schema": {
                                "fields": [
                                    {
                                        "name": "series_id"
                                    },
                                    {
                                        "name": "supersector_code"
                                    },
                                    {
                                        "name": "industry_code"
                                    },
                                    {
                                        "name": "data_type_code"
                                    },
                                    {
                                        "name": "seasonal"
                                    },
                                    {
                                        "name": "series_title"
                                    },
                                    {
                                        "name": "id"
                                    },
                                    {
                                        "name": "industry_code"
                                    },
                                    {
                                        "name": "naics_code"
                                    },
                                    {
                                        "name": "publishing_status"
                                    },
                                    {
                                        "name": "industry_name"
                                    },
                                    {
                                        "name": "display_level"
                                    },
                                    {
                                        "name": "selectable"
                                    },
                                    {
                                        "name": "sort_sequence"
                                    }
                                ]
                            },
                            "data": [
                                {
                                    "series_id": "CES0000000001",
                                    "supersector_code": "0",
                                    "industry_code": "0",
                                    "data_type_code": "1",
                                    "seasonal": "S",
                                    "series_title": "All employees",
                                    "id": "0",
                                    "naics_code": "-",
                                    "publishing_status": "B",
                                    "industry_name": "Total nonfarm",
                                    "display_level": "0",
                                    "selectable": "T",
                                    "sort_sequence": "1"
                                },
                                {
                                    "series_id": "CES0000000010",
                                    "supersector_code": "0",
                                    "industry_code": "0",
                                    "data_type_code": "10",
                                    "seasonal": "S",
                                    "series_title": "Women employees",
                                    "id": "0",
                                    "naics_code": "-",
                                    "publishing_status": "B",
                                    "industry_name": "Total nonfarm",
                                    "display_level": "0",
                                    "selectable": "T",
                                    "sort_sequence": "1"
                                },
                                {
                                    "series_id": "CES0000000025",
                                    "supersector_code": "0",
                                    "industry_code": "0",
                                    "data_type_code": "25",
                                    "seasonal": "S",
                                    "series_title": "All employees",
                                    "id": "0",
                                    "naics_code": "-",
                                    "publishing_status": "B",
                                    "industry_name": "Total nonfarm",
                                    "display_level": "0",
                                    "selectable": "T",
                                    "sort_sequence": "1"
                                },
                                {
                                    "series_id": "CES0000000026",
                                    "supersector_code": "0",
                                    "industry_code": "0",
                                    "data_type_code": "26",
                                    "seasonal": "S",
                                    "series_title": "All employees",
                                    "id": "0",
                                    "naics_code": "-",
                                    "publishing_status": "B",
                                    "industry_name": "Total nonfarm",
                                    "display_level": "0",
                                    "selectable": "T",
                                    "sort_sequence": "1"
                                },
                                {
                                    "series_id": "CES0500000001",
                                    "supersector_code": "5",
                                    "industry_code": "5000000",
                                    "data_type_code": "1",
                                    "seasonal": "S",
                                    "series_title": "All employees",
                                    "id": "1",
                                    "naics_code": "-",
                                    "publishing_status": "A",
                                    "industry_name": "Total private",
                                    "display_level": "1",
                                    "selectable": "T",
                                    "sort_sequence": "2"
                                },
                                {
                                    "series_id": "CES0500000002",
                                    "supersector_code": "5",
                                    "industry_code": "5000000",
                                    "data_type_code": "2",
                                    "seasonal": "S",
                                    "series_title": "Average weekly hours of all employees",
                                    "id": "1",
                                    "naics_code": "-",
                                    "publishing_status": "A",
                                    "industry_name": "Total private",
                                    "display_level": "1",
                                    "selectable": "T",
                                    "sort_sequence": "2"
                                },
                                {
                                    "series_id": "CES0500000003",
                                    "supersector_code": "5",
                                    "industry_code": "5000000",
                                    "data_type_code": "3",
                                    "seasonal": "S",
                                    "series_title": "Average hourly earnings of all employees",
                                    "id": "1",
                                    "naics_code": "-",
                                    "publishing_status": "A",
                                    "industry_name": "Total private",
                                    "display_level": "1",
                                    "selectable": "T",
                                    "sort_sequence": "2"
                                },
                                {
                                    "series_id": "CES0500000006",
                                    "supersector_code": "5",
                                    "industry_code": "5000000",
                                    "data_type_code": "6",
                                    "seasonal": "S",
                                    "series_title": "Production and nonsupervisory employees",
                                    "id": "1",
                                    "naics_code": "-",
                                    "publishing_status": "A",
                                    "industry_name": "Total private",
                                    "display_level": "1",
                                    "selectable": "T",
                                    "sort_sequence": "2"
                                },
                                {
                                    "series_id": "CES0500000007",
                                    "supersector_code": "5",
                                    "industry_code": "5000000",
                                    "data_type_code": "7",
                                    "seasonal": "S",
                                    "series_title": "Average weekly hours of production and nonsupervisory employees",
                                    "id": "1",
                                    "naics_code": "-",
                                    "publishing_status": "A",
                                    "industry_name": "Total private",
                                    "display_level": "1",
                                    "selectable": "T",
                                    "sort_sequence": "2"
                                },
                                {
                                    "series_id": "CES0500000008",
                                    "supersector_code": "5",
                                    "industry_code": "5000000",
                                    "data_type_code": "8",
                                    "seasonal": "S",
                                    "series_title": "Average hourly earnings of production and nonsupervisory employees",
                                    "id": "1",
                                    "naics_code": "-",
                                    "publishing_status": "A",
                                    "industry_name": "Total private",
                                    "display_level": "1",
                                    "selectable": "T",
                                    "sort_sequence": "2"
                                }
                            ]
                        },
                        "text/html": [
                            "<table>",
                            "<tr><th>series_id</th><th>supersector_code</th><th>industry_code</th><th>data_type_code</th><th>seasonal</th><th>series_title</th><th>id</th><th>industry_code</th><th>naics_code</th><th>publishing_status</th><th>industry_name</th><th>display_level</th><th>selectable</th><th>sort_sequence</th></tr>",
                            "<tr><td>CES0000000001</td><td>0</td><td>00000000</td><td>1</td><td>S</td><td>All employees</td><td>0</td><td>0</td><td>-</td><td>B</td><td>Total nonfarm</td><td>0</td><td>T</td><td>1</td></tr>",
                            "<tr><td>CES0000000010</td><td>0</td><td>00000000</td><td>10</td><td>S</td><td>Women employees</td><td>0</td><td>0</td><td>-</td><td>B</td><td>Total nonfarm</td><td>0</td><td>T</td><td>1</td></tr>",
                            "<tr><td>CES0000000025</td><td>0</td><td>00000000</td><td>25</td><td>S</td><td>All employees</td><td>0</td><td>0</td><td>-</td><td>B</td><td>Total nonfarm</td><td>0</td><td>T</td><td>1</td></tr>",
                            "<tr><td>CES0000000026</td><td>0</td><td>00000000</td><td>26</td><td>S</td><td>All employees</td><td>0</td><td>0</td><td>-</td><td>B</td><td>Total nonfarm</td><td>0</td><td>T</td><td>1</td></tr>",
                            "<tr><td>CES0500000001</td><td>5</td><td>05000000</td><td>1</td><td>S</td><td>All employees</td><td>1</td><td>5000000</td><td>-</td><td>A</td><td>Total private</td><td>1</td><td>T</td><td>2</td></tr>",
                            "<tr><td>CES0500000002</td><td>5</td><td>05000000</td><td>2</td><td>S</td><td>Average weekly hours of all employees</td><td>1</td><td>5000000</td><td>-</td><td>A</td><td>Total private</td><td>1</td><td>T</td><td>2</td></tr>",
                            "<tr><td>CES0500000003</td><td>5</td><td>05000000</td><td>3</td><td>S</td><td>Average hourly earnings of all employees</td><td>1</td><td>5000000</td><td>-</td><td>A</td><td>Total private</td><td>1</td><td>T</td><td>2</td></tr>",
                            "<tr><td>CES0500000006</td><td>5</td><td>05000000</td><td>6</td><td>S</td><td>Production and nonsupervisory employees</td><td>1</td><td>5000000</td><td>-</td><td>A</td><td>Total private</td><td>1</td><td>T</td><td>2</td></tr>",
                            "<tr><td>CES0500000007</td><td>5</td><td>05000000</td><td>7</td><td>S</td><td>Average weekly hours of production and nonsupervisory employees</td><td>1</td><td>5000000</td><td>-</td><td>A</td><td>Total private</td><td>1</td><td>T</td><td>2</td></tr>",
                            "<tr><td>CES0500000008</td><td>5</td><td>05000000</td><td>8</td><td>S</td><td>Average hourly earnings of production and nonsupervisory employees</td><td>1</td><td>5000000</td><td>-</td><td>A</td><td>Total private</td><td>1</td><td>T</td><td>2</td></tr>",
                            "</table>"
                        ]
                    }
                }
            ],
            "execution_count": 10
        },
        {
            "cell_type": "markdown",
            "source": [
                "## <span style=\"font-size: 12pt; font-family: Montserrat, sans-serif; color: rgb(53, 74, 95); background-color: rgb(255, 255, 255); font-weight: 700; font-variant-numeric: normal; font-variant-east-asian: normal; vertical-align: baseline; white-space: pre-wrap;\">Aggregate Your Friends and Code some SQL</span>\n",
                "\n",
                "<span style=\"font-size: 10pt; font-family: Arvo, serif; color: rgb(102, 102, 102); background-color: rgb(255, 255, 255); font-variant-numeric: normal; font-variant-east-asian: normal; vertical-align: baseline; white-space: pre-wrap;\">Put together the following:</span>\n",
                "\n",
                "1. <span style=\"background-color: rgb(255, 255, 255); font-size: 10pt; white-space: pre-wrap; color: rgb(102, 102, 102); font-family: Arvo, serif;\">How many employees were reported in 2016 in all industries? Round to the nearest whole number.&nbsp; No chopping people into little bits, please. </span> <span style=\"font-size: 13.3333px; white-space: pre-wrap;\">2351408916</span>"
            ],
            "metadata": {
                "azdata_cell_guid": "f4290cc1-f824-4586-8850-59d926bf4460"
            },
            "attachments": {}
        },
        {
            "cell_type": "code",
            "source": [
                "SELECT ROUND(SUM(p.value), 0) AS total_employees\n",
                "FROM LaborStatisticsDB.dbo.annual_2016 AS p\n",
                "WHERE p.year = '2016';"
            ],
            "metadata": {
                "azdata_cell_guid": "6d09416e-68d7-40a9-b084-a3550ecc0521",
                "language": "sql"
            },
            "outputs": [
                {
                    "output_type": "display_data",
                    "data": {
                        "text/html": "(1 row affected)"
                    },
                    "metadata": {}
                },
                {
                    "output_type": "display_data",
                    "data": {
                        "text/html": "Total execution time: 00:00:00.071"
                    },
                    "metadata": {}
                },
                {
                    "output_type": "execute_result",
                    "metadata": {},
                    "execution_count": 12,
                    "data": {
                        "application/vnd.dataresource+json": {
                            "schema": {
                                "fields": [
                                    {
                                        "name": "total_employees"
                                    }
                                ]
                            },
                            "data": [
                                {
                                    "total_employees": "2351408916"
                                }
                            ]
                        },
                        "text/html": [
                            "<table>",
                            "<tr><th>total_employees</th></tr>",
                            "<tr><td>2351408916</td></tr>",
                            "</table>"
                        ]
                    }
                }
            ],
            "execution_count": 12
        },
        {
            "cell_type": "code",
            "source": [
                "-- SELECT ROUND(sum(p.value), 0) AS total_employees\n",
                "-- FROM LaborStatisticsDB.dbo.annual_2016 AS p\n",
                "-- INNER JOIN LaborStatisticsDB.dbo.series AS s\n",
                "-- ON p.series_id = s.series_id\n",
                "-- WHERE s.data_type_code = '1'-- AND p.year = '2016'"
            ],
            "metadata": {
                "azdata_cell_guid": "25099068-a629-4eb5-afca-ed3748c40605",
                "language": "sql"
            },
            "outputs": [
                {
                    "output_type": "display_data",
                    "data": {
                        "text/html": "Commands completed successfully."
                    },
                    "metadata": {}
                },
                {
                    "output_type": "display_data",
                    "data": {
                        "text/html": "Total execution time: 00:00:00.054"
                    },
                    "metadata": {}
                }
            ],
            "execution_count": 11
        },
        {
            "cell_type": "markdown",
            "source": [
                "2. <span style=\"background-color: rgb(255, 255, 255); font-size: 10pt; white-space: pre-wrap; color: rgb(102, 102, 102); font-family: Arvo, serif;\">How many women employees were reported in 2016 in all industries? Round to the nearest whole number.&nbsp; </span>  <span style=\"font-size: 13.3333px; white-space: pre-wrap;\">1125490</span>"
            ],
            "metadata": {
                "azdata_cell_guid": "6358fab4-b933-4646-bef1-4be66dcd4317"
            },
            "attachments": {}
        },
        {
            "cell_type": "code",
            "source": [
                "SELECT ROUND(SUM(value), 0) AS women_empl\n",
                "FROM LaborStatisticsDB.dbo.annual_2016\n",
                "WHERE year = '2016' AND series_id IN (\n",
                "    SELECT series_id\n",
                "    FROM LaborStatisticsDB.dbo.series\n",
                "    WHERE series_title = 'Women employees'\n",
                ");\n",
                "\n",
                ""
            ],
            "metadata": {
                "language": "sql",
                "azdata_cell_guid": "d9fa4bb6-e594-4b95-8f96-8378693f44d7"
            },
            "outputs": [
                {
                    "output_type": "display_data",
                    "data": {
                        "text/html": "(1 row affected)"
                    },
                    "metadata": {}
                },
                {
                    "output_type": "display_data",
                    "data": {
                        "text/html": "Total execution time: 00:00:00.081"
                    },
                    "metadata": {}
                },
                {
                    "output_type": "execute_result",
                    "metadata": {},
                    "execution_count": 16,
                    "data": {
                        "application/vnd.dataresource+json": {
                            "schema": {
                                "fields": [
                                    {
                                        "name": "women_empl"
                                    }
                                ]
                            },
                            "data": [
                                {
                                    "women_empl": "1125490"
                                }
                            ]
                        },
                        "text/html": [
                            "<table>",
                            "<tr><th>women_empl</th></tr>",
                            "<tr><td>1125490</td></tr>",
                            "</table>"
                        ]
                    }
                }
            ],
            "execution_count": 16
        },
        {
            "cell_type": "code",
            "source": [
                "-- SELECT ROUND(SUM(p.value), 0) AS women_empl\n",
                "-- FROM LaborStatisticsDB.dbo.annual_2016 AS p\n",
                "-- INNER JOIN LaborStatisticsDB.dbo.series AS s\n",
                "-- ON p.series_id = s.series_id\n",
                "-- WHERE s.data_type_code = '10' AND p.year = '2016'"
            ],
            "metadata": {
                "azdata_cell_guid": "7bb0bfb7-b9e3-4672-b354-7ca705bb0c3b",
                "language": "sql"
            },
            "outputs": [
                {
                    "output_type": "display_data",
                    "data": {
                        "text/html": "Commands completed successfully."
                    },
                    "metadata": {}
                },
                {
                    "output_type": "display_data",
                    "data": {
                        "text/html": "Total execution time: 00:00:00.051"
                    },
                    "metadata": {}
                }
            ],
            "execution_count": 17
        },
        {
            "cell_type": "markdown",
            "source": [
                "3. <span style=\"background-color: rgb(255, 255, 255); font-size: 10pt; white-space: pre-wrap; color: rgb(102, 102, 102); font-family: Arvo, serif;\">How many production/nonsupervisory employees were reported in 2016? Round to the nearest whole number.&nbsp; </span>  <span style=\"font-size: 13.3333px; white-space: pre-wrap;\">1263650</span>"
            ],
            "metadata": {
                "azdata_cell_guid": "246ea683-2075-4337-878d-fbfdd49b2dd7"
            },
            "attachments": {}
        },
        {
            "cell_type": "code",
            "source": [
                "SELECT ROUND(SUM(value), 0) AS production_nonsupervisory_emp\n",
                "FROM LaborStatisticsDB.dbo.annual_2016\n",
                "WHERE year = '2016' AND series_id IN (\n",
                "    SELECT series_id\n",
                "    FROM LaborStatisticsDB.dbo.series\n",
                "    WHERE data_type_code = '6'\n",
                ");\n",
                ""
            ],
            "metadata": {
                "azdata_cell_guid": "3bfa2871-def5-46ad-abeb-786dd5b00fd9",
                "language": "sql"
            },
            "outputs": [
                {
                    "output_type": "display_data",
                    "data": {
                        "text/html": "(1 row affected)"
                    },
                    "metadata": {}
                },
                {
                    "output_type": "display_data",
                    "data": {
                        "text/html": "Total execution time: 00:00:00.075"
                    },
                    "metadata": {}
                },
                {
                    "output_type": "execute_result",
                    "metadata": {},
                    "execution_count": 18,
                    "data": {
                        "application/vnd.dataresource+json": {
                            "schema": {
                                "fields": [
                                    {
                                        "name": "production_nonsupervisory_emp"
                                    }
                                ]
                            },
                            "data": [
                                {
                                    "production_nonsupervisory_emp": "1263650"
                                }
                            ]
                        },
                        "text/html": [
                            "<table>",
                            "<tr><th>production_nonsupervisory_emp</th></tr>",
                            "<tr><td>1263650</td></tr>",
                            "</table>"
                        ]
                    }
                }
            ],
            "execution_count": 18
        },
        {
            "cell_type": "code",
            "source": [
                "--SELECT ROUND(SUM(p.value), 0) AS  production_nonsupervisory_emp\n",
                "--FROM LaborStatisticsDB.dbo.annual_2016 AS p\n",
                "--INNER JOIN LaborStatisticsDB.dbo.series AS s\n",
                "--ON p.series_id = s.series_id\n",
                "--WHERE s.data_type_code = '6' AND p.year = '2016'"
            ],
            "metadata": {
                "azdata_cell_guid": "110f2591-069b-4bbe-87c7-2bcf76c3d36f",
                "language": "sql"
            },
            "outputs": [
                {
                    "output_type": "display_data",
                    "data": {
                        "text/html": "(1 row affected)"
                    },
                    "metadata": {}
                },
                {
                    "output_type": "display_data",
                    "data": {
                        "text/html": "Total execution time: 00:00:00.065"
                    },
                    "metadata": {}
                },
                {
                    "output_type": "execute_result",
                    "execution_count": 22,
                    "data": {
                        "application/vnd.dataresource+json": {
                            "schema": {
                                "fields": [
                                    {
                                        "name": "production_nonsupervisory_emp"
                                    }
                                ]
                            },
                            "data": [
                                {
                                    "production_nonsupervisory_emp": "1263650"
                                }
                            ]
                        },
                        "text/html": "<table><tr><th>production_nonsupervisory_emp</th></tr><tr><td>1263650</td></tr></table>"
                    },
                    "metadata": {}
                }
            ],
            "execution_count": 22
        },
        {
            "cell_type": "markdown",
            "source": [
                "4. <span style=\"background-color: rgb(255, 255, 255); font-size: 10pt; white-space: pre-wrap; color: rgb(102, 102, 102); font-family: Arvo, serif;\">In January 2017, what is the average weekly hours worked by production and nonsupervisory employees across all industries? 36</span>"
            ],
            "metadata": {
                "azdata_cell_guid": "9caa7f57-e39d-4b7a-b705-25f8fe29d60b"
            },
            "attachments": {}
        },
        {
            "cell_type": "code",
            "source": [
                "--SELECT ROUND(AVG(value), 0) AS average_weekly_hours\n",
                "--FROM LaborStatisticsDB.dbo.january_2017\n",
                "--WHERE series_id IN (\n",
                "--    SELECT series_id\n",
                "--    FROM LaborStatisticsDB.dbo.series\n",
                "--    WHERE series_title = 'Average weekly hours (production and nonsupervisory)'\n",
                "--);\n",
                "--now I am getting null as the answer, not 36 as below.\n",
                "--going back to the other way that I did it since the answer is correct. \n",
                ""
            ],
            "metadata": {
                "language": "sql",
                "azdata_cell_guid": "b069ad34-78bc-4939-bdff-97b8b081aefe"
            },
            "outputs": [
                {
                    "output_type": "display_data",
                    "data": {
                        "text/html": "(1 row affected)"
                    },
                    "metadata": {}
                },
                {
                    "output_type": "display_data",
                    "data": {
                        "text/html": "Total execution time: 00:00:00.063"
                    },
                    "metadata": {}
                },
                {
                    "output_type": "execute_result",
                    "metadata": {},
                    "execution_count": 22,
                    "data": {
                        "application/vnd.dataresource+json": {
                            "schema": {
                                "fields": [
                                    {
                                        "name": "average_weekly_hours"
                                    }
                                ]
                            },
                            "data": [
                                {
                                    "average_weekly_hours": "NULL"
                                }
                            ]
                        },
                        "text/html": [
                            "<table>",
                            "<tr><th>average_weekly_hours</th></tr>",
                            "<tr><td>NULL</td></tr>",
                            "</table>"
                        ]
                    }
                }
            ],
            "execution_count": 22
        },
        {
            "cell_type": "code",
            "source": [
                "SELECT ROUND(AVG(p.value), 0) AS average_weekly_hours\n",
                "FROM LaborStatisticsDB.dbo.january_2017 AS p\n",
                "INNER JOIN LaborStatisticsDB.dbo.series AS s\n",
                "ON p.series_id = s.series_id\n",
                "WHERE s.data_type_code = '7'"
            ],
            "metadata": {
                "azdata_cell_guid": "9f07fa8a-4217-439a-a9cd-831240d4bc9e",
                "language": "sql"
            },
            "outputs": [
                {
                    "output_type": "display_data",
                    "data": {
                        "text/html": "(1 row affected)"
                    },
                    "metadata": {}
                },
                {
                    "output_type": "display_data",
                    "data": {
                        "text/html": "Total execution time: 00:00:00.088"
                    },
                    "metadata": {}
                },
                {
                    "output_type": "execute_result",
                    "execution_count": 23,
                    "data": {
                        "application/vnd.dataresource+json": {
                            "schema": {
                                "fields": [
                                    {
                                        "name": "average_weekly_hours"
                                    }
                                ]
                            },
                            "data": [
                                {
                                    "average_weekly_hours": "36"
                                }
                            ]
                        },
                        "text/html": "<table><tr><th>average_weekly_hours</th></tr><tr><td>36</td></tr></table>"
                    },
                    "metadata": {}
                }
            ],
            "execution_count": 23
        },
        {
            "cell_type": "markdown",
            "source": [
                "5. <span style=\"background-color: rgb(255, 255, 255); font-size: 10pt; white-space: pre-wrap; color: rgb(102, 102, 102); font-family: Arvo, serif;\">What is the total weekly payroll for production and nonsupervisory employees across all industries in January 2017? Round to the nearest penny, please. </span> <span style=\"font-size: 13.3333px; white-space: pre-wrap;\">48405.34</span>"
            ],
            "metadata": {
                "azdata_cell_guid": "9c48ff2e-a6eb-4f02-8df2-988e219fbc00"
            },
            "attachments": {}
        },
        {
            "cell_type": "code",
            "source": [
                " SELECT ROUND(SUM(p.value) , 2) as weekly_payroll\n",
                " FROM LaborStatisticsDB.dbo.january_2017 AS p\n",
                "  WHERE p.series_id LIKE '%08'"
            ],
            "metadata": {
                "azdata_cell_guid": "c565641b-f1fa-4dbb-9320-24adfda97ca5",
                "language": "sql"
            },
            "outputs": [
                {
                    "output_type": "display_data",
                    "data": {
                        "text/html": "(1 row affected)"
                    },
                    "metadata": {}
                },
                {
                    "output_type": "display_data",
                    "data": {
                        "text/html": "Total execution time: 00:00:00.114"
                    },
                    "metadata": {}
                },
                {
                    "output_type": "execute_result",
                    "execution_count": 24,
                    "data": {
                        "application/vnd.dataresource+json": {
                            "schema": {
                                "fields": [
                                    {
                                        "name": "weekly_payroll"
                                    }
                                ]
                            },
                            "data": [
                                {
                                    "weekly_payroll": "48405.34"
                                }
                            ]
                        },
                        "text/html": "<table><tr><th>weekly_payroll</th></tr><tr><td>48405.34</td></tr></table>"
                    },
                    "metadata": {}
                }
            ],
            "execution_count": 24
        },
        {
            "cell_type": "markdown",
            "source": [
                "6. <span style=\"background-color: rgb(255, 255, 255); font-size: 10pt; white-space: pre-wrap; color: rgb(102, 102, 102); font-family: Arvo, serif;\">In January 2017, which industry was the average weekly hours worked by production and nonsupervisory employees the highest? </span> <span style=\"font-size: 13.3333px; white-space: pre-wrap; background-color: rgb(255, 255, 255);\">Motor vehicle power train components 49.6 </span> Which industry was the lowest? <span style=\"font-size: 14px;\">Fitness and recreational sports centers<span style=\"white-space:pre\"> </span>16.85</span>"
            ],
            "metadata": {
                "azdata_cell_guid": "862fd406-4fff-49bb-9d2b-232275a06405"
            },
            "attachments": {}
        },
        {
            "cell_type": "code",
            "source": [
                "--highest\n",
                "SELECT top 10 i.industry_name, AVG(j.value) AS avg_weekly_hours\n",
                "FROM LaborStatisticsDB.dbo.january_2017 AS j\n",
                "JOIN LaborStatisticsDB.dbo.series AS s \n",
                "ON j.series_id = s.series_id\n",
                "JOIN LaborStatisticsDB.dbo.industry AS i\n",
                "ON s.industry_code = i.industry_code\n",
                "WHERE s.data_type_code = '7'\n",
                "AND j.year = '2017'\n",
                "GROUP BY i.industry_name\n",
                "ORDER BY avg_weekly_hours DESC\n",
                "\n",
                "--lowest\n",
                "SELECT top 10 i.industry_name, AVG(j.value) AS avg_weekly_hours\n",
                "FROM LaborStatisticsDB.dbo.january_2017 AS j\n",
                "JOIN LaborStatisticsDB.dbo.series AS s \n",
                "ON j.series_id = s.series_id\n",
                "JOIN LaborStatisticsDB.dbo.industry AS i\n",
                "ON s.industry_code = i.industry_code\n",
                "WHERE s.data_type_code = '7' AND j.year = '2017'\n",
                "GROUP BY i.industry_name\n",
                "ORDER BY avg_weekly_hours ASC"
            ],
            "metadata": {
                "azdata_cell_guid": "01e11050-5f2f-4d22-92e0-2b3024b80a5f",
                "language": "sql"
            },
            "outputs": [
                {
                    "output_type": "display_data",
                    "data": {
                        "text/html": "(10 rows affected)"
                    },
                    "metadata": {}
                },
                {
                    "output_type": "display_data",
                    "data": {
                        "text/html": "(10 rows affected)"
                    },
                    "metadata": {}
                },
                {
                    "output_type": "display_data",
                    "data": {
                        "text/html": "Total execution time: 00:00:00.127"
                    },
                    "metadata": {}
                },
                {
                    "output_type": "execute_result",
                    "execution_count": 25,
                    "data": {
                        "application/vnd.dataresource+json": {
                            "schema": {
                                "fields": [
                                    {
                                        "name": "industry_name"
                                    },
                                    {
                                        "name": "avg_weekly_hours"
                                    }
                                ]
                            },
                            "data": [
                                {
                                    "industry_name": "Motor vehicle power train components",
                                    "avg_weekly_hours": "49.6"
                                },
                                {
                                    "industry_name": "Support activities for mining",
                                    "avg_weekly_hours": "47.2"
                                },
                                {
                                    "industry_name": "Support activities for oil and gas operations",
                                    "avg_weekly_hours": "46.7"
                                },
                                {
                                    "industry_name": "Motor vehicle metal stamping",
                                    "avg_weekly_hours": "46.699999999999996"
                                },
                                {
                                    "industry_name": "Coal mining",
                                    "avg_weekly_hours": "46.6"
                                },
                                {
                                    "industry_name": "Oil and gas pipeline construction",
                                    "avg_weekly_hours": "46.1"
                                },
                                {
                                    "industry_name": "Mining",
                                    "avg_weekly_hours": "46.025"
                                },
                                {
                                    "industry_name": "Boilers",
                                    "avg_weekly_hours": "45.7"
                                },
                                {
                                    "industry_name": "Crushed and broken limestone mining",
                                    "avg_weekly_hours": "45.7"
                                },
                                {
                                    "industry_name": "Mining and logging",
                                    "avg_weekly_hours": "45.65"
                                }
                            ]
                        },
                        "text/html": "<table><tr><th>industry_name</th><th>avg_weekly_hours</th></tr><tr><td>Motor vehicle power train components</td><td>49.6</td></tr><tr><td>Support activities for mining</td><td>47.2</td></tr><tr><td>Support activities for oil and gas operations</td><td>46.7</td></tr><tr><td>Motor vehicle metal stamping</td><td>46.699999999999996</td></tr><tr><td>Coal mining</td><td>46.6</td></tr><tr><td>Oil and gas pipeline construction</td><td>46.1</td></tr><tr><td>Mining</td><td>46.025</td></tr><tr><td>Boilers</td><td>45.7</td></tr><tr><td>Crushed and broken limestone mining</td><td>45.7</td></tr><tr><td>Mining and logging</td><td>45.65</td></tr></table>"
                    },
                    "metadata": {}
                },
                {
                    "output_type": "execute_result",
                    "execution_count": 25,
                    "data": {
                        "application/vnd.dataresource+json": {
                            "schema": {
                                "fields": [
                                    {
                                        "name": "industry_name"
                                    },
                                    {
                                        "name": "avg_weekly_hours"
                                    }
                                ]
                            },
                            "data": [
                                {
                                    "industry_name": "Fitness and recreational sports centers",
                                    "avg_weekly_hours": "16.85"
                                },
                                {
                                    "industry_name": "Civic and social organizations",
                                    "avg_weekly_hours": "18.3"
                                },
                                {
                                    "industry_name": "Family clothing stores",
                                    "avg_weekly_hours": "18.8"
                                },
                                {
                                    "industry_name": "Women's clothing stores",
                                    "avg_weekly_hours": "18.8"
                                },
                                {
                                    "industry_name": "Skiing facilities",
                                    "avg_weekly_hours": "19.3"
                                },
                                {
                                    "industry_name": "Clothing stores",
                                    "avg_weekly_hours": "19.6"
                                },
                                {
                                    "industry_name": "Bowling centers",
                                    "avg_weekly_hours": "20.2"
                                },
                                {
                                    "industry_name": "Clothing accessories stores",
                                    "avg_weekly_hours": "21.2"
                                },
                                {
                                    "industry_name": "Clothing and clothing accessories stores",
                                    "avg_weekly_hours": "21.3"
                                },
                                {
                                    "industry_name": "Drinking places",
                                    "avg_weekly_hours": "21.35"
                                }
                            ]
                        },
                        "text/html": "<table><tr><th>industry_name</th><th>avg_weekly_hours</th></tr><tr><td>Fitness and recreational sports centers</td><td>16.85</td></tr><tr><td>Civic and social organizations</td><td>18.3</td></tr><tr><td>Family clothing stores</td><td>18.8</td></tr><tr><td>Women's clothing stores</td><td>18.8</td></tr><tr><td>Skiing facilities</td><td>19.3</td></tr><tr><td>Clothing stores</td><td>19.6</td></tr><tr><td>Bowling centers</td><td>20.2</td></tr><tr><td>Clothing accessories stores</td><td>21.2</td></tr><tr><td>Clothing and clothing accessories stores</td><td>21.3</td></tr><tr><td>Drinking places</td><td>21.35</td></tr></table>"
                    },
                    "metadata": {}
                }
            ],
            "execution_count": 25
        },
        {
            "cell_type": "markdown",
            "source": [
                "7. <span style=\"background-color: rgb(255, 255, 255);\"><font color=\"#666666\" face=\"Arvo, serif\"><span style=\"font-size: 10pt; white-space: pre-wrap;\">In January 2021, which industry was the total weekly payroll for production and nonsupervisory employees the highest? </span><span style=\"font-size: 13.3333px; white-space: pre-wrap;\">General freight trucking 17855.840000000004 </span><span style=\"font-size: 10pt; white-space: pre-wrap;\">Which industry was the lowest? </span></font></span> <span style=\"font-size: 13.3333px; white-space: pre-wrap;\">Bowling centers 938.5</span>"
            ],
            "metadata": {
                "azdata_cell_guid": "a53f4113-60c6-46d1-b9a3-34610c61d4f9"
            },
            "attachments": {}
        },
        {
            "cell_type": "code",
            "source": [
                "SELECT top 10 i.industry_name, sum(j.value) AS total_weekly_payroll\n",
                "FROM LaborStatisticsDB.dbo.january_2017 AS j\n",
                "JOIN LaborStatisticsDB.dbo.series AS s \n",
                "ON j.series_id = s.series_id\n",
                "JOIN LaborStatisticsDB.dbo.industry AS i\n",
                "ON s.industry_code = i.industry_code\n",
                "WHERE s.data_type_code = '30' \n",
                "GROUP BY i.industry_name\n",
                "ORDER BY total_weekly_payroll DESC;\n",
                "\n",
                "\n",
                "SELECT top 10 i.industry_name, SUM(j.value) AS total_weekly_payroll\n",
                "FROM LaborStatisticsDB.dbo.january_2017 AS j\n",
                "JOIN LaborStatisticsDB.dbo.series AS s \n",
                "ON j.series_id = s.series_id\n",
                "JOIN LaborStatisticsDB.dbo.industry AS i\n",
                "ON s.industry_code = i.industry_code\n",
                "WHERE s.data_type_code = '30' \n",
                "GROUP BY i.industry_name\n",
                "ORDER BY total_weekly_payroll ASC;\n",
                ""
            ],
            "metadata": {
                "azdata_cell_guid": "583695e6-7438-4e03-8970-1fe0c677a793",
                "language": "sql"
            },
            "outputs": [
                {
                    "output_type": "display_data",
                    "data": {
                        "text/html": "(10 rows affected)"
                    },
                    "metadata": {}
                },
                {
                    "output_type": "display_data",
                    "data": {
                        "text/html": "(10 rows affected)"
                    },
                    "metadata": {}
                },
                {
                    "output_type": "display_data",
                    "data": {
                        "text/html": "Total execution time: 00:00:00.156"
                    },
                    "metadata": {}
                },
                {
                    "output_type": "execute_result",
                    "execution_count": 26,
                    "data": {
                        "application/vnd.dataresource+json": {
                            "schema": {
                                "fields": [
                                    {
                                        "name": "industry_name"
                                    },
                                    {
                                        "name": "total_weekly_payroll"
                                    }
                                ]
                            },
                            "data": [
                                {
                                    "industry_name": "NULL",
                                    "total_weekly_payroll": "119157.21999999994"
                                },
                                {
                                    "industry_name": "General freight trucking",
                                    "total_weekly_payroll": "17855.840000000004"
                                },
                                {
                                    "industry_name": "Mining",
                                    "total_weekly_payroll": "10143.14"
                                },
                                {
                                    "industry_name": "Motor vehicles",
                                    "total_weekly_payroll": "8459.12"
                                },
                                {
                                    "industry_name": "Industrial machinery",
                                    "total_weekly_payroll": "8203.98"
                                },
                                {
                                    "industry_name": "Offices of physicians",
                                    "total_weekly_payroll": "8150.080000000001"
                                },
                                {
                                    "industry_name": "Chemicals",
                                    "total_weekly_payroll": "7983.68"
                                },
                                {
                                    "industry_name": "Durable goods",
                                    "total_weekly_payroll": "7556.379999999999"
                                },
                                {
                                    "industry_name": "Other specialized trucking",
                                    "total_weekly_payroll": "7545.920000000001"
                                },
                                {
                                    "industry_name": "Reinsurance carriers",
                                    "total_weekly_payroll": "7242.34"
                                }
                            ]
                        },
                        "text/html": "<table><tr><th>industry_name</th><th>total_weekly_payroll</th></tr><tr><td>NULL</td><td>119157.21999999994</td></tr><tr><td>General freight trucking</td><td>17855.840000000004</td></tr><tr><td>Mining</td><td>10143.14</td></tr><tr><td>Motor vehicles</td><td>8459.12</td></tr><tr><td>Industrial machinery</td><td>8203.98</td></tr><tr><td>Offices of physicians</td><td>8150.080000000001</td></tr><tr><td>Chemicals</td><td>7983.68</td></tr><tr><td>Durable goods</td><td>7556.379999999999</td></tr><tr><td>Other specialized trucking</td><td>7545.920000000001</td></tr><tr><td>Reinsurance carriers</td><td>7242.34</td></tr></table>"
                    },
                    "metadata": {}
                },
                {
                    "output_type": "execute_result",
                    "execution_count": 26,
                    "data": {
                        "application/vnd.dataresource+json": {
                            "schema": {
                                "fields": [
                                    {
                                        "name": "industry_name"
                                    },
                                    {
                                        "name": "total_weekly_payroll"
                                    }
                                ]
                            },
                            "data": [
                                {
                                    "industry_name": "Bowling centers",
                                    "total_weekly_payroll": "938.5"
                                },
                                {
                                    "industry_name": "Family clothing stores",
                                    "total_weekly_payroll": "975.5799999999999"
                                },
                                {
                                    "industry_name": "Fitness and recreational sports centers",
                                    "total_weekly_payroll": "979.26"
                                },
                                {
                                    "industry_name": "Women's clothing stores",
                                    "total_weekly_payroll": "982.9200000000001"
                                },
                                {
                                    "industry_name": "Limited-service restaurants",
                                    "total_weekly_payroll": "1009.42"
                                },
                                {
                                    "industry_name": "Clothing stores",
                                    "total_weekly_payroll": "1032.52"
                                },
                                {
                                    "industry_name": "Snack and nonalcoholic beverage bars",
                                    "total_weekly_payroll": "1043.6399999999999"
                                },
                                {
                                    "industry_name": "Cafeterias",
                                    "total_weekly_payroll": "1088.74"
                                },
                                {
                                    "industry_name": "Civic and social organizations",
                                    "total_weekly_payroll": "1093.1"
                                },
                                {
                                    "industry_name": "Gift",
                                    "total_weekly_payroll": "1102.02"
                                }
                            ]
                        },
                        "text/html": "<table><tr><th>industry_name</th><th>total_weekly_payroll</th></tr><tr><td>Bowling centers</td><td>938.5</td></tr><tr><td>Family clothing stores</td><td>975.5799999999999</td></tr><tr><td>Fitness and recreational sports centers</td><td>979.26</td></tr><tr><td>Women's clothing stores</td><td>982.9200000000001</td></tr><tr><td>Limited-service restaurants</td><td>1009.42</td></tr><tr><td>Clothing stores</td><td>1032.52</td></tr><tr><td>Snack and nonalcoholic beverage bars</td><td>1043.6399999999999</td></tr><tr><td>Cafeterias</td><td>1088.74</td></tr><tr><td>Civic and social organizations</td><td>1093.1</td></tr><tr><td>Gift</td><td>1102.02</td></tr></table>"
                    },
                    "metadata": {}
                }
            ],
            "execution_count": 26
        },
        {
            "cell_type": "markdown",
            "source": [
                "## <span style=\"font-size: 12pt; font-family: Montserrat, sans-serif; color: rgb(53, 74, 95); background-color: rgb(255, 255, 255); font-weight: 700; font-variant-numeric: normal; font-variant-east-asian: normal; vertical-align: baseline; white-space: pre-wrap;\">Subqueries, Unions, Derived Tables, Oh My!</span>\n",
                "\n",
                "1. <span style=\"background-color: rgb(255, 255, 255); font-size: 10pt; white-space: pre-wrap; color: rgb(102, 102, 102); font-family: Arvo, serif;\">Write a query that returns the series_id, industry_code, industry_name, and value from the january_2017 table but only if that value is greater than the average value for annual_2016 of data_type_code 82.</span>"
            ],
            "metadata": {
                "azdata_cell_guid": "e98ec195-5399-4718-83ef-54fb954662a5"
            },
            "attachments": {}
        },
        {
            "cell_type": "code",
            "source": [
                "SELECT top 10 s.series_id, i.industry_code, i.industry_name, j.[value]\n",
                "FROM LaborStatisticsDB.dbo.january_2017 AS j\n",
                "JOIN LaborStatisticsDB.dbo.series AS s \n",
                "ON j.series_id = s.series_id\n",
                "JOIN LaborStatisticsDB.dbo.industry AS i\n",
                "ON s.industry_code = i.industry_code\n",
                "WHERE j.value> (select avg(a.value)\n",
                "     FROM LaborStatisticsDB.dbo.annual_2016 AS a\n",
                "     JOIN LaborStatisticsDB.dbo.series AS s \n",
                "     ON a.series_id = s.series_id\n",
                "     where s.data_type_code = '82') \n",
                "order by j.value desc"
            ],
            "metadata": {
                "azdata_cell_guid": "7c85f70b-528f-4cbd-bd8e-a6efab1c18df",
                "language": "sql"
            },
            "outputs": [
                {
                    "output_type": "display_data",
                    "data": {
                        "text/html": "(10 rows affected)"
                    },
                    "metadata": {}
                },
                {
                    "output_type": "display_data",
                    "data": {
                        "text/html": "Total execution time: 00:00:00.097"
                    },
                    "metadata": {}
                },
                {
                    "output_type": "execute_result",
                    "execution_count": 27,
                    "data": {
                        "application/vnd.dataresource+json": {
                            "schema": {
                                "fields": [
                                    {
                                        "name": "series_id"
                                    },
                                    {
                                        "name": "industry_code"
                                    },
                                    {
                                        "name": "industry_name"
                                    },
                                    {
                                        "name": "value"
                                    }
                                ]
                            },
                            "data": [
                                {
                                    "series_id": "CES0500000057",
                                    "industry_code": "5000000",
                                    "industry_name": "Total private",
                                    "value": "110301694"
                                },
                                {
                                    "series_id": "CES0500000057",
                                    "industry_code": "5000000",
                                    "industry_name": "Total private",
                                    "value": "110301694"
                                },
                                {
                                    "series_id": "CEU0500000057",
                                    "industry_code": "5000000",
                                    "industry_name": "Total private",
                                    "value": "109731861"
                                },
                                {
                                    "series_id": "CEU0500000057",
                                    "industry_code": "5000000",
                                    "industry_name": "Total private",
                                    "value": "109731861"
                                },
                                {
                                    "series_id": "CEU0800000057",
                                    "industry_code": "8000000",
                                    "industry_name": "Private service-providing",
                                    "value": "88446140"
                                },
                                {
                                    "series_id": "CEU0800000057",
                                    "industry_code": "8000000",
                                    "industry_name": "Private service-providing",
                                    "value": "88446140"
                                },
                                {
                                    "series_id": "CES0800000057",
                                    "industry_code": "8000000",
                                    "industry_name": "Private service-providing",
                                    "value": "88280865"
                                },
                                {
                                    "series_id": "CES0800000057",
                                    "industry_code": "8000000",
                                    "industry_name": "Private service-providing",
                                    "value": "88280865"
                                },
                                {
                                    "series_id": "CES0500000082",
                                    "industry_code": "5000000",
                                    "industry_name": "Total private",
                                    "value": "74498171"
                                },
                                {
                                    "series_id": "CES0500000082",
                                    "industry_code": "5000000",
                                    "industry_name": "Total private",
                                    "value": "74498171"
                                }
                            ]
                        },
                        "text/html": "<table><tr><th>series_id</th><th>industry_code</th><th>industry_name</th><th>value</th></tr><tr><td>CES0500000057</td><td>5000000</td><td>Total private</td><td>110301694</td></tr><tr><td>CES0500000057</td><td>5000000</td><td>Total private</td><td>110301694</td></tr><tr><td>CEU0500000057</td><td>5000000</td><td>Total private</td><td>109731861</td></tr><tr><td>CEU0500000057</td><td>5000000</td><td>Total private</td><td>109731861</td></tr><tr><td>CEU0800000057</td><td>8000000</td><td>Private service-providing</td><td>88446140</td></tr><tr><td>CEU0800000057</td><td>8000000</td><td>Private service-providing</td><td>88446140</td></tr><tr><td>CES0800000057</td><td>8000000</td><td>Private service-providing</td><td>88280865</td></tr><tr><td>CES0800000057</td><td>8000000</td><td>Private service-providing</td><td>88280865</td></tr><tr><td>CES0500000082</td><td>5000000</td><td>Total private</td><td>74498171</td></tr><tr><td>CES0500000082</td><td>5000000</td><td>Total private</td><td>74498171</td></tr></table>"
                    },
                    "metadata": {}
                }
            ],
            "execution_count": 27
        },
        {
            "cell_type": "markdown",
            "source": [
                "2. <span style=\"background-color: rgb(255, 255, 255); font-size: 10pt; white-space: pre-wrap; color: rgb(102, 102, 102); font-family: Arvo, serif;\">Create a Union table comparing average weekly earnings&nbsp; of production and nonsupervisory employees between annual_16 and january_17 using the data type 30.&nbsp; Round to the nearest penny.&nbsp; You should have a column for the average earnings and a column for the year, and the period.</span>"
            ],
            "metadata": {
                "azdata_cell_guid": "1bb0ed09-4b02-4132-910e-5903697628af"
            },
            "attachments": {}
        },
        {
            "cell_type": "code",
            "source": [
                "SELECT round(AVG(value), 2) AS avg_weekly_earning, [year], j.period\n",
                "FROM LaborStatisticsDB.dbo.january_2017 AS j\n",
                "JOIN LaborStatisticsDB.dbo.series AS s \n",
                "ON j.series_id = s.series_id\n",
                "where data_type_code = '30'\n",
                "group by [year], j.[period]\n",
                "\n",
                "UNION\n",
                "\n",
                "SELECT round(AVG(value), 2) AS avg_weekly_earning, [year], p.period\n",
                "FROM  LaborStatisticsDB.dbo.annual_2016 AS p\n",
                "JOIN LaborStatisticsDB.dbo.series AS s\n",
                "ON p.series_id = s.series_id\n",
                "where data_type_code = '30'\n",
                "group by [year], p.[period]"
            ],
            "metadata": {
                "azdata_cell_guid": "0841b6d6-9af2-41ba-8e28-dc40d08bd061",
                "language": "sql"
            },
            "outputs": [
                {
                    "output_type": "display_data",
                    "data": {
                        "text/html": "(2 rows affected)"
                    },
                    "metadata": {}
                },
                {
                    "output_type": "display_data",
                    "data": {
                        "text/html": "Total execution time: 00:00:00.097"
                    },
                    "metadata": {}
                },
                {
                    "output_type": "execute_result",
                    "execution_count": 28,
                    "data": {
                        "application/vnd.dataresource+json": {
                            "schema": {
                                "fields": [
                                    {
                                        "name": "avg_weekly_earning"
                                    },
                                    {
                                        "name": "year"
                                    },
                                    {
                                        "name": "period"
                                    }
                                ]
                            },
                            "data": [
                                {
                                    "avg_weekly_earning": "797.2",
                                    "year": "2016",
                                    "period": "M13"
                                },
                                {
                                    "avg_weekly_earning": "808.53",
                                    "year": "2017",
                                    "period": "M01"
                                }
                            ]
                        },
                        "text/html": "<table><tr><th>avg_weekly_earning</th><th>year</th><th>period</th></tr><tr><td>797.2</td><td>2016</td><td>M13</td></tr><tr><td>808.53</td><td>2017</td><td>M01</td></tr></table>"
                    },
                    "metadata": {}
                }
            ],
            "execution_count": 28
        },
        {
            "cell_type": "markdown",
            "source": [
                "## <span style=\"font-size:12pt;font-family:Montserrat, sans-serif;color:rgb(53, 74, 95);background-color:rgb(255, 255, 255);font-weight:700;vertical-align:baseline;white-space:pre-wrap;\">Summarize Your Results</span>\n",
                "\n",
                "<span style=\"font-size:10pt;font-family:Arvo, serif;color:rgb(102, 102, 102);background-color:rgb(255, 255, 255);vertical-align:baseline;white-space:pre-wrap;\">With what you know now about the </span> <span style=\"background-color:rgb(255, 255, 255);color:rgb(102, 102, 102);font-family:&quot;Times New Roman&quot;;font-size:13.3333px;white-space:pre-wrap;\">Bureau of Labor Statistics (BLS) Current Employment Survey (CES) results and working with the</span> <span style=\"color:rgb(102, 102, 102);white-space:pre-wrap;font-family:&quot;Times New Roman&quot;;font-size:13.3333px;\">Labor Statistics Database</span><span style=\"background-color:rgb(255, 255, 255);color:rgb(102, 102, 102);font-family:Arvo, serif;font-size:10pt;white-space:pre-wrap;\">, answer the following questions. Note that while this is subjective, you should include relevant data to back up your opinion.</span>\n",
                "\n",
                "1. <span style=\"background-color:rgb(255, 255, 255);font-size:10pt;white-space:pre-wrap;color:rgb(102, 102, 102);font-family:Arvo, serif;\">During which time period did production and nonsupervisory employees fare better?</span>"
            ],
            "metadata": {
                "azdata_cell_guid": "780f65a6-b9e7-4f24-9132-293c47f559e8"
            },
            "attachments": {}
        },
        {
            "cell_type": "markdown",
            "source": [
                "<span style=\"color: rgb(55, 65, 81); font-family: Söhne, ui-sans-serif, system-ui, -apple-system, &quot;Segoe UI&quot;, Roboto, Ubuntu, Cantarell, &quot;Noto Sans&quot;, sans-serif, &quot;Helvetica Neue&quot;, Arial, &quot;Apple Color Emoji&quot;, &quot;Segoe UI Emoji&quot;, &quot;Segoe UI Symbol&quot;, &quot;Noto Color Emoji&quot;; font-size: 16px; white-space: pre-wrap; background-color: rgb(247, 247, 248);\">M01 (January 2017), production and nonsupervisory employees had a more favorable outcome or experienced better conditions compared to other periods or employee categories.</span>"
            ],
            "metadata": {
                "azdata_cell_guid": "f11f1fb2-f7d1-41e5-bc9c-84087d7cfc93"
            },
            "attachments": {}
        },
        {
            "cell_type": "markdown",
            "source": [
                "2. <span style=\"background-color: rgb(255, 255, 255); font-size: 10pt; white-space: pre-wrap; color: rgb(102, 102, 102); font-family: Arvo, serif;\">In which industries did production and nonsupervisory employees fare better?</span>"
            ],
            "metadata": {
                "azdata_cell_guid": "f606e5e5-f6f1-4070-bbfa-e31617b43e56"
            },
            "attachments": {}
        },
        {
            "cell_type": "markdown",
            "source": [
                "Production and nonsupervisory employees fared better in the following industries:\n",
                "\n",
                "1. Total private: 8 entries\n",
                "2. Private service-providing: 8 entries\n",
                "3. Professional and business services: 4 entries\n",
                "4. Goods-producing: 2 entries\n",
                "5. Trade: 3 entries\n",
                "\n",
                "These industries showed higher earnings or more favorable conditions for production and nonsupervisory employees based on the top 25 earning entries."
            ],
            "metadata": {
                "azdata_cell_guid": "94e18f5d-b87b-4ba6-b1fd-bde035dafc04"
            },
            "attachments": {}
        },
        {
            "cell_type": "markdown",
            "source": [
                "3. <span style=\"font-size: 10pt; font-family: Arvo, serif; color: rgb(102, 102, 102); background-color: rgb(255, 255, 255); font-variant-numeric: normal; font-variant-east-asian: normal; vertical-align: baseline; white-space: pre-wrap;\">Now that you have explored the datasets, is there any data or information that you wish you had in this analysis?</span>"
            ],
            "metadata": {
                "azdata_cell_guid": "101e4449-601a-46c6-b217-23f3339cfa76"
            },
            "attachments": {}
        },
        {
            "cell_type": "markdown",
            "source": [
                "The data we have for the 9 to 5 project has some issues that make it challenging to understand. There is a lot of information that doesn't seem to be relevant or useful. For example, there is a category called 'NULL' where we don't know what kind of work people are doing, but they are getting paid.\n",
                "\n",
                "Another problem is that we need more clarification on what we mean by \"fared best.\" I assumed it meant looking at how much people are paid, but it could also mean considering the balance between work and personal life, like how many hours people work. To explore this, I looked at the \"Total Private\" industry, which seems to be doing well in terms of earnings. On the surface, it looks like people in this industry are paid decently and work fewer hours. But we don't know if they have good benefits, like healthcare or vacation time, because the number of hours they work might not be enough to qualify for those benefits.\n",
                "\n",
                "To make better comparisons, it would be more helpful to look at data from both 2016 and 2017, instead of just one month in 2017. One month is not enough to get an accurate picture. It would also be great if we had a table that combined all the data from different sources so we could see everything together and make better sense of it.\n",
                "\n",
                "In summary, we need more clarification on what \"faring best\" means, and it would be helpful to have data from multiple years and a table that puts everything together."
            ],
            "metadata": {
                "azdata_cell_guid": "d07e9180-f5e0-49b4-b395-2c6c8a5f8aac"
            },
            "attachments": {}
        }
    ]
}